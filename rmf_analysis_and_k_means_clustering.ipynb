{
  "cells": [
    {
      "cell_type": "markdown",
      "metadata": {
        "id": "view-in-github",
        "colab_type": "text"
      },
      "source": [
        "<a href=\"https://colab.research.google.com/github/ravikarora/E-CRM-using-Machine-Learning/blob/main/rmf_analysis_and_k_means_clustering.ipynb\" target=\"_parent\"><img src=\"https://colab.research.google.com/assets/colab-badge.svg\" alt=\"Open In Colab\"/></a>"
      ]
    },
    {
      "cell_type": "markdown",
      "id": "a8c375bc",
      "metadata": {
        "papermill": {
          "duration": 0.035207,
          "end_time": "2021-09-12T09:52:44.899123",
          "exception": false,
          "start_time": "2021-09-12T09:52:44.863916",
          "status": "completed"
        },
        "tags": [],
        "id": "a8c375bc"
      },
      "source": [
        "# Customer Segmentation using RMF Analysis and K-means clustering\n",
        "\n",
        "This is part of my individual project for Data Analyst Program 22 at Hyper Island.\n",
        "\n",
        "### Topic: How E-commerce companies can utilize customer's behavioral data to improve CRM\n",
        "\n",
        "#### Focusing on customer segmentation using RMF Analysis and K-means clustering in Python\n",
        "- Dataset: The data provide detailed information about quantities, characteristics and values of goods sold as well as their prices. The anonymized dataset includes 64.682 transactions of 5.242 SKU's sold to 22.625 customers during 2016.\n",
        "- Dataset source: [Retail Store Sales Transactions (Scanner Data)](https://www.kaggle.com/marian447/retail-store-sales-transactions)\n",
        "- Resources [Customer Segmentation in Python](https://learn.datacamp.com/courses/customer-segmentation-in-python) course on DataCamp\n",
        "\n",
        "#### Tables of contents\n",
        "- [Step 1 -  Data Cleaning and Pre-processing](#section-one)\n",
        "- [Step 2 - Transform the data](#section-two)\n",
        "- [Step 3 - RFM Analysis](#section-three)\n",
        "- [Step 4 - K-means clustering](#section-four)\n",
        "- [Reflections & Extra Resources](#section-five)\n",
        "\n",
        "Written by T.L Li (Hyper Island 2021-09)"
      ]
    },
    {
      "cell_type": "markdown",
      "id": "adf55f7a",
      "metadata": {
        "papermill": {
          "duration": 0.031339,
          "end_time": "2021-09-12T09:52:44.964051",
          "exception": false,
          "start_time": "2021-09-12T09:52:44.932712",
          "status": "completed"
        },
        "tags": [],
        "id": "adf55f7a"
      },
      "source": [
        "<a id=\"section-one\"></a>\n",
        "### Step 1 - Data Cleaning and Pre-processing\n",
        "####  Import the commonly-used libraries"
      ]
    },
    {
      "cell_type": "code",
      "execution_count": null,
      "id": "829f9c96",
      "metadata": {
        "execution": {
          "iopub.execute_input": "2021-09-12T09:52:45.032051Z",
          "iopub.status.busy": "2021-09-12T09:52:45.030944Z",
          "iopub.status.idle": "2021-09-12T09:52:45.960842Z",
          "shell.execute_reply": "2021-09-12T09:52:45.959919Z",
          "shell.execute_reply.started": "2021-09-12T09:38:03.568860Z"
        },
        "papermill": {
          "duration": 0.965626,
          "end_time": "2021-09-12T09:52:45.961144",
          "exception": false,
          "start_time": "2021-09-12T09:52:44.995518",
          "status": "completed"
        },
        "tags": [],
        "id": "829f9c96"
      },
      "outputs": [],
      "source": [
        "import numpy as np\n",
        "import pandas as pd\n",
        "import matplotlib.pyplot as plt\n",
        "import seaborn as sns\n",
        "%matplotlib inline"
      ]
    },
    {
      "cell_type": "markdown",
      "id": "d5b972bb",
      "metadata": {
        "papermill": {
          "duration": 0.030896,
          "end_time": "2021-09-12T09:52:46.023702",
          "exception": false,
          "start_time": "2021-09-12T09:52:45.992806",
          "status": "completed"
        },
        "tags": [],
        "id": "d5b972bb"
      },
      "source": [
        "#### Load the dataset & Exploratory Data Analysis (EDA)"
      ]
    },
    {
      "cell_type": "code",
      "execution_count": null,
      "id": "418b89bc",
      "metadata": {
        "execution": {
          "iopub.execute_input": "2021-09-12T09:52:46.091457Z",
          "iopub.status.busy": "2021-09-12T09:52:46.090475Z",
          "iopub.status.idle": "2021-09-12T09:52:46.311906Z",
          "shell.execute_reply": "2021-09-12T09:52:46.312364Z",
          "shell.execute_reply.started": "2021-09-12T09:38:03.581328Z"
        },
        "papermill": {
          "duration": 0.25714,
          "end_time": "2021-09-12T09:52:46.312581",
          "exception": false,
          "start_time": "2021-09-12T09:52:46.055441",
          "status": "completed"
        },
        "scrolled": true,
        "tags": [],
        "id": "418b89bc",
        "outputId": "7113420e-bcc3-4db1-9d85-865c59fd1959"
      },
      "outputs": [
        {
          "name": "stdout",
          "output_type": "stream",
          "text": [
            "/kaggle/input/retail-store-sales-transactions/scanner_data.csv\n"
          ]
        },
        {
          "data": {
            "text/html": [
              "<div>\n",
              "<style scoped>\n",
              "    .dataframe tbody tr th:only-of-type {\n",
              "        vertical-align: middle;\n",
              "    }\n",
              "\n",
              "    .dataframe tbody tr th {\n",
              "        vertical-align: top;\n",
              "    }\n",
              "\n",
              "    .dataframe thead th {\n",
              "        text-align: right;\n",
              "    }\n",
              "</style>\n",
              "<table border=\"1\" class=\"dataframe\">\n",
              "  <thead>\n",
              "    <tr style=\"text-align: right;\">\n",
              "      <th></th>\n",
              "      <th>Unnamed: 0</th>\n",
              "      <th>Date</th>\n",
              "      <th>Customer_ID</th>\n",
              "      <th>Transaction_ID</th>\n",
              "      <th>SKU_Category</th>\n",
              "      <th>SKU</th>\n",
              "      <th>Quantity</th>\n",
              "      <th>Sales_Amount</th>\n",
              "    </tr>\n",
              "  </thead>\n",
              "  <tbody>\n",
              "    <tr>\n",
              "      <th>0</th>\n",
              "      <td>1</td>\n",
              "      <td>02/01/2016</td>\n",
              "      <td>2547</td>\n",
              "      <td>1</td>\n",
              "      <td>X52</td>\n",
              "      <td>0EM7L</td>\n",
              "      <td>1.0</td>\n",
              "      <td>3.13</td>\n",
              "    </tr>\n",
              "    <tr>\n",
              "      <th>1</th>\n",
              "      <td>2</td>\n",
              "      <td>02/01/2016</td>\n",
              "      <td>822</td>\n",
              "      <td>2</td>\n",
              "      <td>2ML</td>\n",
              "      <td>68BRQ</td>\n",
              "      <td>1.0</td>\n",
              "      <td>5.46</td>\n",
              "    </tr>\n",
              "    <tr>\n",
              "      <th>2</th>\n",
              "      <td>3</td>\n",
              "      <td>02/01/2016</td>\n",
              "      <td>3686</td>\n",
              "      <td>3</td>\n",
              "      <td>0H2</td>\n",
              "      <td>CZUZX</td>\n",
              "      <td>1.0</td>\n",
              "      <td>6.35</td>\n",
              "    </tr>\n",
              "    <tr>\n",
              "      <th>3</th>\n",
              "      <td>4</td>\n",
              "      <td>02/01/2016</td>\n",
              "      <td>3719</td>\n",
              "      <td>4</td>\n",
              "      <td>0H2</td>\n",
              "      <td>549KK</td>\n",
              "      <td>1.0</td>\n",
              "      <td>5.59</td>\n",
              "    </tr>\n",
              "    <tr>\n",
              "      <th>4</th>\n",
              "      <td>5</td>\n",
              "      <td>02/01/2016</td>\n",
              "      <td>9200</td>\n",
              "      <td>5</td>\n",
              "      <td>0H2</td>\n",
              "      <td>K8EHH</td>\n",
              "      <td>1.0</td>\n",
              "      <td>6.88</td>\n",
              "    </tr>\n",
              "    <tr>\n",
              "      <th>5</th>\n",
              "      <td>6</td>\n",
              "      <td>02/01/2016</td>\n",
              "      <td>5010</td>\n",
              "      <td>6</td>\n",
              "      <td>JPI</td>\n",
              "      <td>GVBRC</td>\n",
              "      <td>1.0</td>\n",
              "      <td>10.77</td>\n",
              "    </tr>\n",
              "    <tr>\n",
              "      <th>6</th>\n",
              "      <td>7</td>\n",
              "      <td>02/01/2016</td>\n",
              "      <td>1666</td>\n",
              "      <td>7</td>\n",
              "      <td>XG4</td>\n",
              "      <td>AHAE7</td>\n",
              "      <td>1.0</td>\n",
              "      <td>3.65</td>\n",
              "    </tr>\n",
              "    <tr>\n",
              "      <th>7</th>\n",
              "      <td>8</td>\n",
              "      <td>02/01/2016</td>\n",
              "      <td>1666</td>\n",
              "      <td>7</td>\n",
              "      <td>FEW</td>\n",
              "      <td>AHZNS</td>\n",
              "      <td>1.0</td>\n",
              "      <td>8.21</td>\n",
              "    </tr>\n",
              "    <tr>\n",
              "      <th>8</th>\n",
              "      <td>9</td>\n",
              "      <td>02/01/2016</td>\n",
              "      <td>1253</td>\n",
              "      <td>8</td>\n",
              "      <td>0H2</td>\n",
              "      <td>9STQJ</td>\n",
              "      <td>1.0</td>\n",
              "      <td>8.25</td>\n",
              "    </tr>\n",
              "    <tr>\n",
              "      <th>9</th>\n",
              "      <td>10</td>\n",
              "      <td>02/01/2016</td>\n",
              "      <td>5541</td>\n",
              "      <td>9</td>\n",
              "      <td>N5F</td>\n",
              "      <td>7IE9S</td>\n",
              "      <td>1.0</td>\n",
              "      <td>8.18</td>\n",
              "    </tr>\n",
              "  </tbody>\n",
              "</table>\n",
              "</div>"
            ],
            "text/plain": [
              "   Unnamed: 0        Date  Customer_ID  Transaction_ID SKU_Category    SKU  \\\n",
              "0           1  02/01/2016         2547               1          X52  0EM7L   \n",
              "1           2  02/01/2016          822               2          2ML  68BRQ   \n",
              "2           3  02/01/2016         3686               3          0H2  CZUZX   \n",
              "3           4  02/01/2016         3719               4          0H2  549KK   \n",
              "4           5  02/01/2016         9200               5          0H2  K8EHH   \n",
              "5           6  02/01/2016         5010               6          JPI  GVBRC   \n",
              "6           7  02/01/2016         1666               7          XG4  AHAE7   \n",
              "7           8  02/01/2016         1666               7          FEW  AHZNS   \n",
              "8           9  02/01/2016         1253               8          0H2  9STQJ   \n",
              "9          10  02/01/2016         5541               9          N5F  7IE9S   \n",
              "\n",
              "   Quantity  Sales_Amount  \n",
              "0       1.0          3.13  \n",
              "1       1.0          5.46  \n",
              "2       1.0          6.35  \n",
              "3       1.0          5.59  \n",
              "4       1.0          6.88  \n",
              "5       1.0         10.77  \n",
              "6       1.0          3.65  \n",
              "7       1.0          8.21  \n",
              "8       1.0          8.25  \n",
              "9       1.0          8.18  "
            ]
          },
          "execution_count": 2,
          "metadata": {},
          "output_type": "execute_result"
        }
      ],
      "source": [
        "import os\n",
        "for dirname, _, filenames in os.walk('/kaggle/input'):\n",
        "    for filename in filenames:\n",
        "        print(os.path.join(dirname, filename))\n",
        "\n",
        "df = pd.read_csv('../input/retail-store-sales-transactions/scanner_data.csv')\n",
        "df.head(10)"
      ]
    },
    {
      "cell_type": "code",
      "execution_count": null,
      "id": "ef1a98d1",
      "metadata": {
        "execution": {
          "iopub.execute_input": "2021-09-12T09:52:46.383216Z",
          "iopub.status.busy": "2021-09-12T09:52:46.381034Z",
          "iopub.status.idle": "2021-09-12T09:52:46.423542Z",
          "shell.execute_reply": "2021-09-12T09:52:46.424005Z",
          "shell.execute_reply.started": "2021-09-12T09:38:03.735681Z"
        },
        "papermill": {
          "duration": 0.079448,
          "end_time": "2021-09-12T09:52:46.424186",
          "exception": false,
          "start_time": "2021-09-12T09:52:46.344738",
          "status": "completed"
        },
        "scrolled": true,
        "tags": [],
        "id": "ef1a98d1",
        "outputId": "82a61735-a87f-4ad2-dce8-6ae1bb3839c2"
      },
      "outputs": [
        {
          "name": "stdout",
          "output_type": "stream",
          "text": [
            "<class 'pandas.core.frame.DataFrame'>\n",
            "RangeIndex: 131706 entries, 0 to 131705\n",
            "Data columns (total 8 columns):\n",
            " #   Column          Non-Null Count   Dtype  \n",
            "---  ------          --------------   -----  \n",
            " 0   Unnamed: 0      131706 non-null  int64  \n",
            " 1   Date            131706 non-null  object \n",
            " 2   Customer_ID     131706 non-null  int64  \n",
            " 3   Transaction_ID  131706 non-null  int64  \n",
            " 4   SKU_Category    131706 non-null  object \n",
            " 5   SKU             131706 non-null  object \n",
            " 6   Quantity        131706 non-null  float64\n",
            " 7   Sales_Amount    131706 non-null  float64\n",
            "dtypes: float64(2), int64(3), object(3)\n",
            "memory usage: 8.0+ MB\n"
          ]
        }
      ],
      "source": [
        "df.info()\n",
        "\n",
        "# the result shows that there's no null values in the dataset."
      ]
    },
    {
      "cell_type": "code",
      "execution_count": null,
      "id": "88bc5413",
      "metadata": {
        "execution": {
          "iopub.execute_input": "2021-09-12T09:52:46.493121Z",
          "iopub.status.busy": "2021-09-12T09:52:46.491999Z",
          "iopub.status.idle": "2021-09-12T09:52:46.548939Z",
          "shell.execute_reply": "2021-09-12T09:52:46.548035Z",
          "shell.execute_reply.started": "2021-09-12T09:38:03.807488Z"
        },
        "papermill": {
          "duration": 0.093091,
          "end_time": "2021-09-12T09:52:46.549141",
          "exception": false,
          "start_time": "2021-09-12T09:52:46.456050",
          "status": "completed"
        },
        "tags": [],
        "id": "88bc5413",
        "outputId": "b481edf9-3398-4584-8c2d-34b35050d2ea"
      },
      "outputs": [
        {
          "name": "stdout",
          "output_type": "stream",
          "text": [
            "<class 'pandas.core.frame.DataFrame'>\n",
            "RangeIndex: 131706 entries, 0 to 131705\n",
            "Data columns (total 9 columns):\n",
            " #   Column          Non-Null Count   Dtype         \n",
            "---  ------          --------------   -----         \n",
            " 0   Unnamed: 0      131706 non-null  int64         \n",
            " 1   Date            131706 non-null  object        \n",
            " 2   Customer_ID     131706 non-null  int64         \n",
            " 3   Transaction_ID  131706 non-null  int64         \n",
            " 4   SKU_Category    131706 non-null  object        \n",
            " 5   SKU             131706 non-null  object        \n",
            " 6   Quantity        131706 non-null  float64       \n",
            " 7   Sales_Amount    131706 non-null  float64       \n",
            " 8   DateTime        131706 non-null  datetime64[ns]\n",
            "dtypes: datetime64[ns](1), float64(2), int64(3), object(3)\n",
            "memory usage: 9.0+ MB\n"
          ]
        }
      ],
      "source": [
        "# Date is object, so I convert the string into 'datetime' dtype.\n",
        "\n",
        "df['DateTime']= pd.to_datetime(df['Date'])\n",
        "df.info()"
      ]
    },
    {
      "cell_type": "code",
      "execution_count": null,
      "id": "f8bf4375",
      "metadata": {
        "execution": {
          "iopub.execute_input": "2021-09-12T09:52:46.619410Z",
          "iopub.status.busy": "2021-09-12T09:52:46.618757Z",
          "iopub.status.idle": "2021-09-12T09:52:46.669585Z",
          "shell.execute_reply": "2021-09-12T09:52:46.670038Z",
          "shell.execute_reply.started": "2021-09-12T09:38:03.896567Z"
        },
        "papermill": {
          "duration": 0.087618,
          "end_time": "2021-09-12T09:52:46.670260",
          "exception": false,
          "start_time": "2021-09-12T09:52:46.582642",
          "status": "completed"
        },
        "tags": [],
        "id": "f8bf4375",
        "outputId": "e66d0588-9c3d-4ed2-9841-a08ef4c78804"
      },
      "outputs": [
        {
          "data": {
            "text/plain": [
              "Unnamed: 0        131706\n",
              "Date                 363\n",
              "Customer_ID        22625\n",
              "Transaction_ID     64682\n",
              "SKU_Category         187\n",
              "SKU                 5242\n",
              "Quantity              83\n",
              "Sales_Amount        3233\n",
              "DateTime             363\n",
              "dtype: int64"
            ]
          },
          "execution_count": 5,
          "metadata": {},
          "output_type": "execute_result"
        }
      ],
      "source": [
        "df.nunique()\n",
        "\n",
        "# unique customer = 22625\n",
        "# unique date = 363"
      ]
    },
    {
      "cell_type": "code",
      "execution_count": null,
      "id": "f452d2ec",
      "metadata": {
        "execution": {
          "iopub.execute_input": "2021-09-12T09:52:46.745385Z",
          "iopub.status.busy": "2021-09-12T09:52:46.744342Z",
          "iopub.status.idle": "2021-09-12T09:52:46.784286Z",
          "shell.execute_reply": "2021-09-12T09:52:46.784703Z",
          "shell.execute_reply.started": "2021-09-12T09:38:03.959659Z"
        },
        "papermill": {
          "duration": 0.081937,
          "end_time": "2021-09-12T09:52:46.784903",
          "exception": false,
          "start_time": "2021-09-12T09:52:46.702966",
          "status": "completed"
        },
        "tags": [],
        "id": "f452d2ec",
        "outputId": "e7f86cb8-802e-4ba8-8a86-18adb20cae28"
      },
      "outputs": [
        {
          "data": {
            "text/html": [
              "<div>\n",
              "<style scoped>\n",
              "    .dataframe tbody tr th:only-of-type {\n",
              "        vertical-align: middle;\n",
              "    }\n",
              "\n",
              "    .dataframe tbody tr th {\n",
              "        vertical-align: top;\n",
              "    }\n",
              "\n",
              "    .dataframe thead th {\n",
              "        text-align: right;\n",
              "    }\n",
              "</style>\n",
              "<table border=\"1\" class=\"dataframe\">\n",
              "  <thead>\n",
              "    <tr style=\"text-align: right;\">\n",
              "      <th></th>\n",
              "      <th>Unnamed: 0</th>\n",
              "      <th>Customer_ID</th>\n",
              "      <th>Transaction_ID</th>\n",
              "      <th>Quantity</th>\n",
              "      <th>Sales_Amount</th>\n",
              "    </tr>\n",
              "  </thead>\n",
              "  <tbody>\n",
              "    <tr>\n",
              "      <th>count</th>\n",
              "      <td>131706.000000</td>\n",
              "      <td>131706.000000</td>\n",
              "      <td>131706.000000</td>\n",
              "      <td>131706.000000</td>\n",
              "      <td>131706.000000</td>\n",
              "    </tr>\n",
              "    <tr>\n",
              "      <th>mean</th>\n",
              "      <td>65853.500000</td>\n",
              "      <td>12386.450367</td>\n",
              "      <td>32389.604187</td>\n",
              "      <td>1.485311</td>\n",
              "      <td>11.981524</td>\n",
              "    </tr>\n",
              "    <tr>\n",
              "      <th>std</th>\n",
              "      <td>38020.391614</td>\n",
              "      <td>6086.447552</td>\n",
              "      <td>18709.901238</td>\n",
              "      <td>3.872667</td>\n",
              "      <td>19.359699</td>\n",
              "    </tr>\n",
              "    <tr>\n",
              "      <th>min</th>\n",
              "      <td>1.000000</td>\n",
              "      <td>1.000000</td>\n",
              "      <td>1.000000</td>\n",
              "      <td>0.010000</td>\n",
              "      <td>0.020000</td>\n",
              "    </tr>\n",
              "    <tr>\n",
              "      <th>25%</th>\n",
              "      <td>32927.250000</td>\n",
              "      <td>7349.000000</td>\n",
              "      <td>16134.000000</td>\n",
              "      <td>1.000000</td>\n",
              "      <td>4.230000</td>\n",
              "    </tr>\n",
              "    <tr>\n",
              "      <th>50%</th>\n",
              "      <td>65853.500000</td>\n",
              "      <td>13496.000000</td>\n",
              "      <td>32620.000000</td>\n",
              "      <td>1.000000</td>\n",
              "      <td>6.920000</td>\n",
              "    </tr>\n",
              "    <tr>\n",
              "      <th>75%</th>\n",
              "      <td>98779.750000</td>\n",
              "      <td>17306.000000</td>\n",
              "      <td>48548.000000</td>\n",
              "      <td>1.000000</td>\n",
              "      <td>12.330000</td>\n",
              "    </tr>\n",
              "    <tr>\n",
              "      <th>max</th>\n",
              "      <td>131706.000000</td>\n",
              "      <td>22625.000000</td>\n",
              "      <td>64682.000000</td>\n",
              "      <td>400.000000</td>\n",
              "      <td>707.730000</td>\n",
              "    </tr>\n",
              "  </tbody>\n",
              "</table>\n",
              "</div>"
            ],
            "text/plain": [
              "          Unnamed: 0    Customer_ID  Transaction_ID       Quantity  \\\n",
              "count  131706.000000  131706.000000   131706.000000  131706.000000   \n",
              "mean    65853.500000   12386.450367    32389.604187       1.485311   \n",
              "std     38020.391614    6086.447552    18709.901238       3.872667   \n",
              "min         1.000000       1.000000        1.000000       0.010000   \n",
              "25%     32927.250000    7349.000000    16134.000000       1.000000   \n",
              "50%     65853.500000   13496.000000    32620.000000       1.000000   \n",
              "75%     98779.750000   17306.000000    48548.000000       1.000000   \n",
              "max    131706.000000   22625.000000    64682.000000     400.000000   \n",
              "\n",
              "        Sales_Amount  \n",
              "count  131706.000000  \n",
              "mean       11.981524  \n",
              "std        19.359699  \n",
              "min         0.020000  \n",
              "25%         4.230000  \n",
              "50%         6.920000  \n",
              "75%        12.330000  \n",
              "max       707.730000  "
            ]
          },
          "execution_count": 6,
          "metadata": {},
          "output_type": "execute_result"
        }
      ],
      "source": [
        "df.describe()"
      ]
    },
    {
      "cell_type": "markdown",
      "id": "d67537e8",
      "metadata": {
        "papermill": {
          "duration": 0.032803,
          "end_time": "2021-09-12T09:52:46.850498",
          "exception": false,
          "start_time": "2021-09-12T09:52:46.817695",
          "status": "completed"
        },
        "tags": [],
        "id": "d67537e8"
      },
      "source": [
        "<a id=\"section-two\"></a>\n",
        "### Step 2 - Transform the data\n",
        "To prepare the data for RFM analysis, I need the total value per transaction. Therefore, I need to combine different SKUs in the same transactions, since currently the data is stored by Transaction_ID and SKU_Category, meaning same transaction may have multiple rows due to different SKUs."
      ]
    },
    {
      "cell_type": "code",
      "execution_count": null,
      "id": "a988593d",
      "metadata": {
        "execution": {
          "iopub.execute_input": "2021-09-12T09:52:46.924777Z",
          "iopub.status.busy": "2021-09-12T09:52:46.924126Z",
          "iopub.status.idle": "2021-09-12T09:52:46.985309Z",
          "shell.execute_reply": "2021-09-12T09:52:46.984670Z",
          "shell.execute_reply.started": "2021-09-12T09:38:04.004665Z"
        },
        "papermill": {
          "duration": 0.101315,
          "end_time": "2021-09-12T09:52:46.985491",
          "exception": false,
          "start_time": "2021-09-12T09:52:46.884176",
          "status": "completed"
        },
        "scrolled": true,
        "tags": [],
        "id": "a988593d",
        "outputId": "2bd7f437-bdd5-4bd3-b4d7-555b4bdebb0f"
      },
      "outputs": [
        {
          "data": {
            "text/html": [
              "<div>\n",
              "<style scoped>\n",
              "    .dataframe tbody tr th:only-of-type {\n",
              "        vertical-align: middle;\n",
              "    }\n",
              "\n",
              "    .dataframe tbody tr th {\n",
              "        vertical-align: top;\n",
              "    }\n",
              "\n",
              "    .dataframe thead th {\n",
              "        text-align: right;\n",
              "    }\n",
              "</style>\n",
              "<table border=\"1\" class=\"dataframe\">\n",
              "  <thead>\n",
              "    <tr style=\"text-align: right;\">\n",
              "      <th></th>\n",
              "      <th>DateTime</th>\n",
              "      <th>Customer_ID</th>\n",
              "      <th>Transaction_ID</th>\n",
              "      <th>Sales_Amount</th>\n",
              "    </tr>\n",
              "  </thead>\n",
              "  <tbody>\n",
              "    <tr>\n",
              "      <th>4962</th>\n",
              "      <td>2016-02-01</td>\n",
              "      <td>2547</td>\n",
              "      <td>1</td>\n",
              "      <td>3.13</td>\n",
              "    </tr>\n",
              "    <tr>\n",
              "      <th>4935</th>\n",
              "      <td>2016-02-01</td>\n",
              "      <td>822</td>\n",
              "      <td>2</td>\n",
              "      <td>5.46</td>\n",
              "    </tr>\n",
              "    <tr>\n",
              "      <th>4981</th>\n",
              "      <td>2016-02-01</td>\n",
              "      <td>3686</td>\n",
              "      <td>3</td>\n",
              "      <td>6.35</td>\n",
              "    </tr>\n",
              "    <tr>\n",
              "      <th>4983</th>\n",
              "      <td>2016-02-01</td>\n",
              "      <td>3719</td>\n",
              "      <td>4</td>\n",
              "      <td>5.59</td>\n",
              "    </tr>\n",
              "    <tr>\n",
              "      <th>5063</th>\n",
              "      <td>2016-02-01</td>\n",
              "      <td>9200</td>\n",
              "      <td>5</td>\n",
              "      <td>6.88</td>\n",
              "    </tr>\n",
              "    <tr>\n",
              "      <th>5008</th>\n",
              "      <td>2016-02-01</td>\n",
              "      <td>5010</td>\n",
              "      <td>6</td>\n",
              "      <td>10.77</td>\n",
              "    </tr>\n",
              "    <tr>\n",
              "      <th>4948</th>\n",
              "      <td>2016-02-01</td>\n",
              "      <td>1666</td>\n",
              "      <td>7</td>\n",
              "      <td>11.86</td>\n",
              "    </tr>\n",
              "    <tr>\n",
              "      <th>4940</th>\n",
              "      <td>2016-02-01</td>\n",
              "      <td>1253</td>\n",
              "      <td>8</td>\n",
              "      <td>8.25</td>\n",
              "    </tr>\n",
              "    <tr>\n",
              "      <th>5016</th>\n",
              "      <td>2016-02-01</td>\n",
              "      <td>5541</td>\n",
              "      <td>9</td>\n",
              "      <td>14.53</td>\n",
              "    </tr>\n",
              "    <tr>\n",
              "      <th>5047</th>\n",
              "      <td>2016-02-01</td>\n",
              "      <td>7548</td>\n",
              "      <td>10</td>\n",
              "      <td>7.49</td>\n",
              "    </tr>\n",
              "  </tbody>\n",
              "</table>\n",
              "</div>"
            ],
            "text/plain": [
              "       DateTime  Customer_ID  Transaction_ID  Sales_Amount\n",
              "4962 2016-02-01         2547               1          3.13\n",
              "4935 2016-02-01          822               2          5.46\n",
              "4981 2016-02-01         3686               3          6.35\n",
              "4983 2016-02-01         3719               4          5.59\n",
              "5063 2016-02-01         9200               5          6.88\n",
              "5008 2016-02-01         5010               6         10.77\n",
              "4948 2016-02-01         1666               7         11.86\n",
              "4940 2016-02-01         1253               8          8.25\n",
              "5016 2016-02-01         5541               9         14.53\n",
              "5047 2016-02-01         7548              10          7.49"
            ]
          },
          "execution_count": 7,
          "metadata": {},
          "output_type": "execute_result"
        }
      ],
      "source": [
        "group = df.groupby(['DateTime','Customer_ID','Transaction_ID']).Sales_Amount.sum().reset_index()\n",
        "group.sort_values(by=['Transaction_ID']).head(10)\n",
        "\n",
        "# transation_id= 7, the total value is 3.65+8.21 = 11.86"
      ]
    },
    {
      "cell_type": "code",
      "execution_count": null,
      "id": "c8617cc1",
      "metadata": {
        "execution": {
          "iopub.execute_input": "2021-09-12T09:52:47.063769Z",
          "iopub.status.busy": "2021-09-12T09:52:47.063080Z",
          "iopub.status.idle": "2021-09-12T09:52:47.067711Z",
          "shell.execute_reply": "2021-09-12T09:52:47.067077Z",
          "shell.execute_reply.started": "2021-09-12T09:38:04.065200Z"
        },
        "papermill": {
          "duration": 0.048908,
          "end_time": "2021-09-12T09:52:47.067864",
          "exception": false,
          "start_time": "2021-09-12T09:52:47.018956",
          "status": "completed"
        },
        "tags": [],
        "id": "c8617cc1",
        "outputId": "9ef4c89f-560e-48eb-9d70-26f0f32cff8d"
      },
      "outputs": [
        {
          "data": {
            "text/html": [
              "<div>\n",
              "<style scoped>\n",
              "    .dataframe tbody tr th:only-of-type {\n",
              "        vertical-align: middle;\n",
              "    }\n",
              "\n",
              "    .dataframe tbody tr th {\n",
              "        vertical-align: top;\n",
              "    }\n",
              "\n",
              "    .dataframe thead th {\n",
              "        text-align: right;\n",
              "    }\n",
              "</style>\n",
              "<table border=\"1\" class=\"dataframe\">\n",
              "  <thead>\n",
              "    <tr style=\"text-align: right;\">\n",
              "      <th></th>\n",
              "      <th>DateTime</th>\n",
              "      <th>Customer_ID</th>\n",
              "      <th>Transaction_ID</th>\n",
              "      <th>Sales_Amount</th>\n",
              "    </tr>\n",
              "  </thead>\n",
              "  <tbody>\n",
              "    <tr>\n",
              "      <th>0</th>\n",
              "      <td>2016-01-02</td>\n",
              "      <td>37</td>\n",
              "      <td>4938</td>\n",
              "      <td>2.49</td>\n",
              "    </tr>\n",
              "    <tr>\n",
              "      <th>1</th>\n",
              "      <td>2016-01-02</td>\n",
              "      <td>50</td>\n",
              "      <td>5004</td>\n",
              "      <td>2.86</td>\n",
              "    </tr>\n",
              "    <tr>\n",
              "      <th>2</th>\n",
              "      <td>2016-01-02</td>\n",
              "      <td>91</td>\n",
              "      <td>4976</td>\n",
              "      <td>5.79</td>\n",
              "    </tr>\n",
              "    <tr>\n",
              "      <th>3</th>\n",
              "      <td>2016-01-02</td>\n",
              "      <td>106</td>\n",
              "      <td>4885</td>\n",
              "      <td>9.06</td>\n",
              "    </tr>\n",
              "    <tr>\n",
              "      <th>4</th>\n",
              "      <td>2016-01-02</td>\n",
              "      <td>159</td>\n",
              "      <td>4879</td>\n",
              "      <td>44.55</td>\n",
              "    </tr>\n",
              "  </tbody>\n",
              "</table>\n",
              "</div>"
            ],
            "text/plain": [
              "    DateTime  Customer_ID  Transaction_ID  Sales_Amount\n",
              "0 2016-01-02           37            4938          2.49\n",
              "1 2016-01-02           50            5004          2.86\n",
              "2 2016-01-02           91            4976          5.79\n",
              "3 2016-01-02          106            4885          9.06\n",
              "4 2016-01-02          159            4879         44.55"
            ]
          },
          "execution_count": 8,
          "metadata": {},
          "output_type": "execute_result"
        }
      ],
      "source": [
        "group.head()"
      ]
    },
    {
      "cell_type": "markdown",
      "id": "771cdbd5",
      "metadata": {
        "papermill": {
          "duration": 0.041529,
          "end_time": "2021-09-12T09:52:47.143436",
          "exception": false,
          "start_time": "2021-09-12T09:52:47.101907",
          "status": "completed"
        },
        "tags": [],
        "id": "771cdbd5"
      },
      "source": [
        "<a id=\"section-three\"></a>\n",
        "### Step 3 - RFM Analysis\n",
        "RFM Analysis is a customer segmentation method that divides the customers into different groups based on the metrics of Recency, Frequency, and Monetary Value. By labeling the customers based on the RFM score, we can identify the different stages of the customer cycles.\n"
      ]
    },
    {
      "cell_type": "code",
      "execution_count": null,
      "id": "954cf003",
      "metadata": {
        "execution": {
          "iopub.execute_input": "2021-09-12T09:52:47.464227Z",
          "iopub.status.busy": "2021-09-12T09:52:47.431620Z",
          "iopub.status.idle": "2021-09-12T09:52:47.640932Z",
          "shell.execute_reply": "2021-09-12T09:52:47.641428Z",
          "shell.execute_reply.started": "2021-09-12T09:38:04.076444Z"
        },
        "papermill": {
          "duration": 0.456567,
          "end_time": "2021-09-12T09:52:47.641621",
          "exception": false,
          "start_time": "2021-09-12T09:52:47.185054",
          "status": "completed"
        },
        "tags": [],
        "id": "954cf003",
        "outputId": "0c9d6531-8c52-43c0-d663-054b0694dc56"
      },
      "outputs": [
        {
          "name": "stdout",
          "output_type": "stream",
          "text": [
            "Min:2016-01-02 00:00:00; Max:2016-12-31 00:00:00\n"
          ]
        }
      ],
      "source": [
        "print('Min:{}; Max:{}'.format(min(group.DateTime),max(group.DateTime)))"
      ]
    },
    {
      "cell_type": "code",
      "execution_count": null,
      "id": "2656df81",
      "metadata": {
        "execution": {
          "iopub.execute_input": "2021-09-12T09:52:47.714203Z",
          "iopub.status.busy": "2021-09-12T09:52:47.712541Z",
          "iopub.status.idle": "2021-09-12T09:52:47.716661Z",
          "shell.execute_reply": "2021-09-12T09:52:47.716060Z",
          "shell.execute_reply.started": "2021-09-12T09:38:04.478905Z"
        },
        "papermill": {
          "duration": 0.041202,
          "end_time": "2021-09-12T09:52:47.716806",
          "exception": false,
          "start_time": "2021-09-12T09:52:47.675604",
          "status": "completed"
        },
        "tags": [],
        "id": "2656df81"
      },
      "outputs": [],
      "source": [
        "import datetime"
      ]
    },
    {
      "cell_type": "code",
      "execution_count": null,
      "id": "7bb95918",
      "metadata": {
        "execution": {
          "iopub.execute_input": "2021-09-12T09:52:47.842396Z",
          "iopub.status.busy": "2021-09-12T09:52:47.833207Z",
          "iopub.status.idle": "2021-09-12T09:52:47.855769Z",
          "shell.execute_reply": "2021-09-12T09:52:47.855110Z",
          "shell.execute_reply.started": "2021-09-12T09:38:04.484208Z"
        },
        "papermill": {
          "duration": 0.105161,
          "end_time": "2021-09-12T09:52:47.855955",
          "exception": false,
          "start_time": "2021-09-12T09:52:47.750794",
          "status": "completed"
        },
        "tags": [],
        "id": "7bb95918",
        "outputId": "ab298ade-eddd-47f4-f6ca-ee45ffaac4c3"
      },
      "outputs": [
        {
          "data": {
            "text/plain": [
              "Timestamp('2017-01-01 00:00:00')"
            ]
          },
          "execution_count": 11,
          "metadata": {},
          "output_type": "execute_result"
        }
      ],
      "source": [
        "# create a hypotheticial snapshot_day data as if we're doing analysis recently\n",
        "snapshot_day = max(group.DateTime) + datetime.timedelta(days=1)\n",
        "snapshot_day"
      ]
    },
    {
      "cell_type": "markdown",
      "id": "501d57a9",
      "metadata": {
        "papermill": {
          "duration": 0.034251,
          "end_time": "2021-09-12T09:52:47.924911",
          "exception": false,
          "start_time": "2021-09-12T09:52:47.890660",
          "status": "completed"
        },
        "tags": [],
        "id": "501d57a9"
      },
      "source": [
        "#### Calculate RFM analysis metrics (Recency, Frequency, Monetary Value)\n",
        "- Recency - days since last customer transaction\n",
        "- Frequency - number of transactions in the last 12 months\n",
        "- Monetary Value - total spend in the last 12 months"
      ]
    },
    {
      "cell_type": "code",
      "execution_count": null,
      "id": "1ab92c5e",
      "metadata": {
        "execution": {
          "iopub.execute_input": "2021-09-12T09:52:48.001967Z",
          "iopub.status.busy": "2021-09-12T09:52:48.001195Z",
          "iopub.status.idle": "2021-09-12T09:52:50.259783Z",
          "shell.execute_reply": "2021-09-12T09:52:50.259144Z",
          "shell.execute_reply.started": "2021-09-12T09:38:04.590450Z"
        },
        "papermill": {
          "duration": 2.300497,
          "end_time": "2021-09-12T09:52:50.259953",
          "exception": false,
          "start_time": "2021-09-12T09:52:47.959456",
          "status": "completed"
        },
        "scrolled": true,
        "tags": [],
        "id": "1ab92c5e",
        "outputId": "e9b0b41d-23c0-416a-a471-f1fcdb9715b0"
      },
      "outputs": [
        {
          "data": {
            "text/html": [
              "<div>\n",
              "<style scoped>\n",
              "    .dataframe tbody tr th:only-of-type {\n",
              "        vertical-align: middle;\n",
              "    }\n",
              "\n",
              "    .dataframe tbody tr th {\n",
              "        vertical-align: top;\n",
              "    }\n",
              "\n",
              "    .dataframe thead th {\n",
              "        text-align: right;\n",
              "    }\n",
              "</style>\n",
              "<table border=\"1\" class=\"dataframe\">\n",
              "  <thead>\n",
              "    <tr style=\"text-align: right;\">\n",
              "      <th></th>\n",
              "      <th>Recency</th>\n",
              "      <th>Frequency</th>\n",
              "      <th>MonetaryValue</th>\n",
              "    </tr>\n",
              "    <tr>\n",
              "      <th>Customer_ID</th>\n",
              "      <th></th>\n",
              "      <th></th>\n",
              "      <th></th>\n",
              "    </tr>\n",
              "  </thead>\n",
              "  <tbody>\n",
              "    <tr>\n",
              "      <th>1</th>\n",
              "      <td>345</td>\n",
              "      <td>1</td>\n",
              "      <td>16.29</td>\n",
              "    </tr>\n",
              "    <tr>\n",
              "      <th>2</th>\n",
              "      <td>196</td>\n",
              "      <td>2</td>\n",
              "      <td>22.77</td>\n",
              "    </tr>\n",
              "    <tr>\n",
              "      <th>3</th>\n",
              "      <td>335</td>\n",
              "      <td>1</td>\n",
              "      <td>10.92</td>\n",
              "    </tr>\n",
              "    <tr>\n",
              "      <th>4</th>\n",
              "      <td>55</td>\n",
              "      <td>2</td>\n",
              "      <td>33.29</td>\n",
              "    </tr>\n",
              "    <tr>\n",
              "      <th>5</th>\n",
              "      <td>121</td>\n",
              "      <td>5</td>\n",
              "      <td>78.82</td>\n",
              "    </tr>\n",
              "  </tbody>\n",
              "</table>\n",
              "</div>"
            ],
            "text/plain": [
              "             Recency  Frequency  MonetaryValue\n",
              "Customer_ID                                   \n",
              "1                345          1          16.29\n",
              "2                196          2          22.77\n",
              "3                335          1          10.92\n",
              "4                 55          2          33.29\n",
              "5                121          5          78.82"
            ]
          },
          "execution_count": 12,
          "metadata": {},
          "output_type": "execute_result"
        }
      ],
      "source": [
        "# Aggregate data at customer level\n",
        "\n",
        "datamart = group.groupby('Customer_ID').agg({\n",
        "    'DateTime': lambda x:(snapshot_day - x.max()).days,\n",
        "    'Transaction_ID' : 'count',\n",
        "    'Sales_Amount':'sum'\n",
        "})\n",
        "\n",
        "datamart.rename(columns = {'DateTime':'Recency',\n",
        "                          'Transaction_ID':'Frequency',\n",
        "                          'Sales_Amount':'MonetaryValue'}, inplace=True)\n",
        "\n",
        "datamart.head()"
      ]
    },
    {
      "cell_type": "markdown",
      "id": "3a190727",
      "metadata": {
        "papermill": {
          "duration": 0.035187,
          "end_time": "2021-09-12T09:52:50.330884",
          "exception": false,
          "start_time": "2021-09-12T09:52:50.295697",
          "status": "completed"
        },
        "tags": [],
        "id": "3a190727"
      },
      "source": [
        "#### Add the score label for R,F,M\n",
        "Score based on linear quantile method"
      ]
    },
    {
      "cell_type": "code",
      "execution_count": null,
      "id": "7cd15721",
      "metadata": {
        "execution": {
          "iopub.execute_input": "2021-09-12T09:52:50.408877Z",
          "iopub.status.busy": "2021-09-12T09:52:50.404272Z",
          "iopub.status.idle": "2021-09-12T09:52:50.424557Z",
          "shell.execute_reply": "2021-09-12T09:52:50.423898Z",
          "shell.execute_reply.started": "2021-09-12T09:38:07.114651Z"
        },
        "papermill": {
          "duration": 0.058925,
          "end_time": "2021-09-12T09:52:50.424708",
          "exception": false,
          "start_time": "2021-09-12T09:52:50.365783",
          "status": "completed"
        },
        "tags": [],
        "id": "7cd15721",
        "outputId": "ac8d2be5-2326-45d1-8795-06b2c4ef56c5"
      },
      "outputs": [
        {
          "data": {
            "text/html": [
              "<div>\n",
              "<style scoped>\n",
              "    .dataframe tbody tr th:only-of-type {\n",
              "        vertical-align: middle;\n",
              "    }\n",
              "\n",
              "    .dataframe tbody tr th {\n",
              "        vertical-align: top;\n",
              "    }\n",
              "\n",
              "    .dataframe thead th {\n",
              "        text-align: right;\n",
              "    }\n",
              "</style>\n",
              "<table border=\"1\" class=\"dataframe\">\n",
              "  <thead>\n",
              "    <tr style=\"text-align: right;\">\n",
              "      <th></th>\n",
              "      <th>Recency</th>\n",
              "      <th>Frequency</th>\n",
              "      <th>MonetaryValue</th>\n",
              "      <th>R</th>\n",
              "    </tr>\n",
              "    <tr>\n",
              "      <th>Customer_ID</th>\n",
              "      <th></th>\n",
              "      <th></th>\n",
              "      <th></th>\n",
              "      <th></th>\n",
              "    </tr>\n",
              "  </thead>\n",
              "  <tbody>\n",
              "    <tr>\n",
              "      <th>1</th>\n",
              "      <td>345</td>\n",
              "      <td>1</td>\n",
              "      <td>16.29</td>\n",
              "      <td>1</td>\n",
              "    </tr>\n",
              "    <tr>\n",
              "      <th>2</th>\n",
              "      <td>196</td>\n",
              "      <td>2</td>\n",
              "      <td>22.77</td>\n",
              "      <td>2</td>\n",
              "    </tr>\n",
              "    <tr>\n",
              "      <th>3</th>\n",
              "      <td>335</td>\n",
              "      <td>1</td>\n",
              "      <td>10.92</td>\n",
              "      <td>1</td>\n",
              "    </tr>\n",
              "    <tr>\n",
              "      <th>4</th>\n",
              "      <td>55</td>\n",
              "      <td>2</td>\n",
              "      <td>33.29</td>\n",
              "      <td>3</td>\n",
              "    </tr>\n",
              "    <tr>\n",
              "      <th>5</th>\n",
              "      <td>121</td>\n",
              "      <td>5</td>\n",
              "      <td>78.82</td>\n",
              "      <td>3</td>\n",
              "    </tr>\n",
              "  </tbody>\n",
              "</table>\n",
              "</div>"
            ],
            "text/plain": [
              "             Recency  Frequency  MonetaryValue  R\n",
              "Customer_ID                                      \n",
              "1                345          1          16.29  1\n",
              "2                196          2          22.77  2\n",
              "3                335          1          10.92  1\n",
              "4                 55          2          33.29  3\n",
              "5                121          5          78.82  3"
            ]
          },
          "execution_count": 13,
          "metadata": {},
          "output_type": "execute_result"
        }
      ],
      "source": [
        "# Create the label, for Recency, the smaller the better, so the rank goes from 4,3,2,1\n",
        "# meaning when the recency is very small, it will be rank earlier, in our case, giving higher score\n",
        "\n",
        "r_labels = range(4,0,-1)\n",
        "\n",
        "# Create a new dataset including quartiles values\n",
        "datamart_quartile = datamart.copy(deep=True)\n",
        "datamart_quartile['R']= pd.qcut(datamart['Recency'],4, labels = r_labels)\n",
        "\n",
        "datamart_quartile.head()"
      ]
    },
    {
      "cell_type": "code",
      "execution_count": null,
      "id": "39e26bfa",
      "metadata": {
        "execution": {
          "iopub.execute_input": "2021-09-12T09:52:50.502237Z",
          "iopub.status.busy": "2021-09-12T09:52:50.498729Z",
          "iopub.status.idle": "2021-09-12T09:52:50.521103Z",
          "shell.execute_reply": "2021-09-12T09:52:50.521647Z",
          "shell.execute_reply.started": "2021-09-12T09:38:07.139499Z"
        },
        "papermill": {
          "duration": 0.061493,
          "end_time": "2021-09-12T09:52:50.521843",
          "exception": false,
          "start_time": "2021-09-12T09:52:50.460350",
          "status": "completed"
        },
        "tags": [],
        "id": "39e26bfa",
        "outputId": "e0e234dc-6ccb-4565-b5c8-a5023d754e9c"
      },
      "outputs": [
        {
          "data": {
            "text/html": [
              "<div>\n",
              "<style scoped>\n",
              "    .dataframe tbody tr th:only-of-type {\n",
              "        vertical-align: middle;\n",
              "    }\n",
              "\n",
              "    .dataframe tbody tr th {\n",
              "        vertical-align: top;\n",
              "    }\n",
              "\n",
              "    .dataframe thead th {\n",
              "        text-align: right;\n",
              "    }\n",
              "</style>\n",
              "<table border=\"1\" class=\"dataframe\">\n",
              "  <thead>\n",
              "    <tr style=\"text-align: right;\">\n",
              "      <th></th>\n",
              "      <th>Recency</th>\n",
              "      <th>Frequency</th>\n",
              "      <th>MonetaryValue</th>\n",
              "      <th>R</th>\n",
              "      <th>F</th>\n",
              "      <th>M</th>\n",
              "    </tr>\n",
              "    <tr>\n",
              "      <th>Customer_ID</th>\n",
              "      <th></th>\n",
              "      <th></th>\n",
              "      <th></th>\n",
              "      <th></th>\n",
              "      <th></th>\n",
              "      <th></th>\n",
              "    </tr>\n",
              "  </thead>\n",
              "  <tbody>\n",
              "    <tr>\n",
              "      <th>1</th>\n",
              "      <td>345</td>\n",
              "      <td>1</td>\n",
              "      <td>16.29</td>\n",
              "      <td>1</td>\n",
              "      <td>1</td>\n",
              "      <td>2</td>\n",
              "    </tr>\n",
              "    <tr>\n",
              "      <th>2</th>\n",
              "      <td>196</td>\n",
              "      <td>2</td>\n",
              "      <td>22.77</td>\n",
              "      <td>2</td>\n",
              "      <td>1</td>\n",
              "      <td>2</td>\n",
              "    </tr>\n",
              "    <tr>\n",
              "      <th>3</th>\n",
              "      <td>335</td>\n",
              "      <td>1</td>\n",
              "      <td>10.92</td>\n",
              "      <td>1</td>\n",
              "      <td>1</td>\n",
              "      <td>2</td>\n",
              "    </tr>\n",
              "    <tr>\n",
              "      <th>4</th>\n",
              "      <td>55</td>\n",
              "      <td>2</td>\n",
              "      <td>33.29</td>\n",
              "      <td>3</td>\n",
              "      <td>1</td>\n",
              "      <td>3</td>\n",
              "    </tr>\n",
              "    <tr>\n",
              "      <th>5</th>\n",
              "      <td>121</td>\n",
              "      <td>5</td>\n",
              "      <td>78.82</td>\n",
              "      <td>3</td>\n",
              "      <td>2</td>\n",
              "      <td>4</td>\n",
              "    </tr>\n",
              "  </tbody>\n",
              "</table>\n",
              "</div>"
            ],
            "text/plain": [
              "             Recency  Frequency  MonetaryValue  R  F  M\n",
              "Customer_ID                                            \n",
              "1                345          1          16.29  1  1  2\n",
              "2                196          2          22.77  2  1  2\n",
              "3                335          1          10.92  1  1  2\n",
              "4                 55          2          33.29  3  1  3\n",
              "5                121          5          78.82  3  2  4"
            ]
          },
          "execution_count": 14,
          "metadata": {},
          "output_type": "execute_result"
        }
      ],
      "source": [
        "#same rules for Frequency & MonetaryValue\n",
        "f_labels = range(1,3)\n",
        "datamart_quartile['F']= pd.qcut(datamart['Frequency'],4, labels = f_labels, duplicates='drop')\n",
        "\n",
        "# got error : Bin edges must be unique: array([ 1.,  1.,  1.,  1.,  2.,  4., 99.]).\n",
        "# solved by adding parameter ( duplicates='drop' ) in pd.qcut\n",
        "# got error: You can drop duplicate edges by setting the 'duplicates' kwarg\n",
        "# solved by chaning labels from range(1,5) to lower level, tried range (1,4) doesn't work, range (1,3) works.\n",
        "\n",
        "m_labels = range(1,5)\n",
        "datamart_quartile['M']= pd.qcut(datamart['MonetaryValue'],4, labels = m_labels)\n",
        "\n",
        "datamart_quartile.head()"
      ]
    },
    {
      "cell_type": "code",
      "execution_count": null,
      "id": "d6678c2f",
      "metadata": {
        "execution": {
          "iopub.execute_input": "2021-09-12T09:52:50.597294Z",
          "iopub.status.busy": "2021-09-12T09:52:50.596321Z",
          "iopub.status.idle": "2021-09-12T09:52:50.624453Z",
          "shell.execute_reply": "2021-09-12T09:52:50.624926Z",
          "shell.execute_reply.started": "2021-09-12T09:38:07.169033Z"
        },
        "papermill": {
          "duration": 0.067867,
          "end_time": "2021-09-12T09:52:50.625107",
          "exception": false,
          "start_time": "2021-09-12T09:52:50.557240",
          "status": "completed"
        },
        "tags": [],
        "id": "d6678c2f",
        "outputId": "1a4671eb-fbe5-4518-c274-de7b43ab2085"
      },
      "outputs": [
        {
          "data": {
            "text/html": [
              "<div>\n",
              "<style scoped>\n",
              "    .dataframe tbody tr th:only-of-type {\n",
              "        vertical-align: middle;\n",
              "    }\n",
              "\n",
              "    .dataframe tbody tr th {\n",
              "        vertical-align: top;\n",
              "    }\n",
              "\n",
              "    .dataframe thead th {\n",
              "        text-align: right;\n",
              "    }\n",
              "</style>\n",
              "<table border=\"1\" class=\"dataframe\">\n",
              "  <thead>\n",
              "    <tr style=\"text-align: right;\">\n",
              "      <th></th>\n",
              "      <th>Recency</th>\n",
              "      <th>Frequency</th>\n",
              "      <th>MonetaryValue</th>\n",
              "      <th>R</th>\n",
              "      <th>F</th>\n",
              "      <th>M</th>\n",
              "    </tr>\n",
              "  </thead>\n",
              "  <tbody>\n",
              "    <tr>\n",
              "      <th>count</th>\n",
              "      <td>22625.000000</td>\n",
              "      <td>22625.000000</td>\n",
              "      <td>22625.000000</td>\n",
              "      <td>22625.0</td>\n",
              "      <td>22625.0</td>\n",
              "      <td>22625.0</td>\n",
              "    </tr>\n",
              "    <tr>\n",
              "      <th>unique</th>\n",
              "      <td>NaN</td>\n",
              "      <td>NaN</td>\n",
              "      <td>NaN</td>\n",
              "      <td>4.0</td>\n",
              "      <td>2.0</td>\n",
              "      <td>4.0</td>\n",
              "    </tr>\n",
              "    <tr>\n",
              "      <th>top</th>\n",
              "      <td>NaN</td>\n",
              "      <td>NaN</td>\n",
              "      <td>NaN</td>\n",
              "      <td>4.0</td>\n",
              "      <td>1.0</td>\n",
              "      <td>1.0</td>\n",
              "    </tr>\n",
              "    <tr>\n",
              "      <th>freq</th>\n",
              "      <td>NaN</td>\n",
              "      <td>NaN</td>\n",
              "      <td>NaN</td>\n",
              "      <td>5703.0</td>\n",
              "      <td>17823.0</td>\n",
              "      <td>5657.0</td>\n",
              "    </tr>\n",
              "    <tr>\n",
              "      <th>mean</th>\n",
              "      <td>145.408796</td>\n",
              "      <td>2.858873</td>\n",
              "      <td>69.747563</td>\n",
              "      <td>NaN</td>\n",
              "      <td>NaN</td>\n",
              "      <td>NaN</td>\n",
              "    </tr>\n",
              "    <tr>\n",
              "      <th>std</th>\n",
              "      <td>109.263227</td>\n",
              "      <td>4.000157</td>\n",
              "      <td>152.307769</td>\n",
              "      <td>NaN</td>\n",
              "      <td>NaN</td>\n",
              "      <td>NaN</td>\n",
              "    </tr>\n",
              "    <tr>\n",
              "      <th>min</th>\n",
              "      <td>1.000000</td>\n",
              "      <td>1.000000</td>\n",
              "      <td>0.140000</td>\n",
              "      <td>NaN</td>\n",
              "      <td>NaN</td>\n",
              "      <td>NaN</td>\n",
              "    </tr>\n",
              "    <tr>\n",
              "      <th>25%</th>\n",
              "      <td>45.000000</td>\n",
              "      <td>1.000000</td>\n",
              "      <td>10.170000</td>\n",
              "      <td>NaN</td>\n",
              "      <td>NaN</td>\n",
              "      <td>NaN</td>\n",
              "    </tr>\n",
              "    <tr>\n",
              "      <th>50%</th>\n",
              "      <td>121.000000</td>\n",
              "      <td>1.000000</td>\n",
              "      <td>23.850000</td>\n",
              "      <td>NaN</td>\n",
              "      <td>NaN</td>\n",
              "      <td>NaN</td>\n",
              "    </tr>\n",
              "    <tr>\n",
              "      <th>75%</th>\n",
              "      <td>243.000000</td>\n",
              "      <td>3.000000</td>\n",
              "      <td>63.070000</td>\n",
              "      <td>NaN</td>\n",
              "      <td>NaN</td>\n",
              "      <td>NaN</td>\n",
              "    </tr>\n",
              "    <tr>\n",
              "      <th>max</th>\n",
              "      <td>365.000000</td>\n",
              "      <td>99.000000</td>\n",
              "      <td>3985.940000</td>\n",
              "      <td>NaN</td>\n",
              "      <td>NaN</td>\n",
              "      <td>NaN</td>\n",
              "    </tr>\n",
              "  </tbody>\n",
              "</table>\n",
              "</div>"
            ],
            "text/plain": [
              "             Recency     Frequency  MonetaryValue        R        F        M\n",
              "count   22625.000000  22625.000000   22625.000000  22625.0  22625.0  22625.0\n",
              "unique           NaN           NaN            NaN      4.0      2.0      4.0\n",
              "top              NaN           NaN            NaN      4.0      1.0      1.0\n",
              "freq             NaN           NaN            NaN   5703.0  17823.0   5657.0\n",
              "mean      145.408796      2.858873      69.747563      NaN      NaN      NaN\n",
              "std       109.263227      4.000157     152.307769      NaN      NaN      NaN\n",
              "min         1.000000      1.000000       0.140000      NaN      NaN      NaN\n",
              "25%        45.000000      1.000000      10.170000      NaN      NaN      NaN\n",
              "50%       121.000000      1.000000      23.850000      NaN      NaN      NaN\n",
              "75%       243.000000      3.000000      63.070000      NaN      NaN      NaN\n",
              "max       365.000000     99.000000    3985.940000      NaN      NaN      NaN"
            ]
          },
          "execution_count": 15,
          "metadata": {},
          "output_type": "execute_result"
        }
      ],
      "source": [
        "datamart_quartile.describe(include='all')\n",
        "# we can see that F only have 2 labels (1 & 2)"
      ]
    },
    {
      "cell_type": "markdown",
      "id": "3214f023",
      "metadata": {
        "papermill": {
          "duration": 0.035583,
          "end_time": "2021-09-12T09:52:50.696274",
          "exception": false,
          "start_time": "2021-09-12T09:52:50.660691",
          "status": "completed"
        },
        "tags": [],
        "id": "3214f023"
      },
      "source": [
        "#### Build RFM segment and RFM score"
      ]
    },
    {
      "cell_type": "code",
      "execution_count": null,
      "id": "bf56d782",
      "metadata": {
        "execution": {
          "iopub.execute_input": "2021-09-12T09:52:50.772525Z",
          "iopub.status.busy": "2021-09-12T09:52:50.771461Z",
          "iopub.status.idle": "2021-09-12T09:52:51.163313Z",
          "shell.execute_reply": "2021-09-12T09:52:51.163783Z",
          "shell.execute_reply.started": "2021-09-12T09:38:07.203306Z"
        },
        "papermill": {
          "duration": 0.431782,
          "end_time": "2021-09-12T09:52:51.163986",
          "exception": false,
          "start_time": "2021-09-12T09:52:50.732204",
          "status": "completed"
        },
        "scrolled": true,
        "tags": [],
        "id": "bf56d782",
        "outputId": "70dfc778-8c3b-4b43-8596-c20871ed05e9"
      },
      "outputs": [
        {
          "data": {
            "text/html": [
              "<div>\n",
              "<style scoped>\n",
              "    .dataframe tbody tr th:only-of-type {\n",
              "        vertical-align: middle;\n",
              "    }\n",
              "\n",
              "    .dataframe tbody tr th {\n",
              "        vertical-align: top;\n",
              "    }\n",
              "\n",
              "    .dataframe thead th {\n",
              "        text-align: right;\n",
              "    }\n",
              "</style>\n",
              "<table border=\"1\" class=\"dataframe\">\n",
              "  <thead>\n",
              "    <tr style=\"text-align: right;\">\n",
              "      <th></th>\n",
              "      <th>Recency</th>\n",
              "      <th>Frequency</th>\n",
              "      <th>MonetaryValue</th>\n",
              "      <th>R</th>\n",
              "      <th>F</th>\n",
              "      <th>M</th>\n",
              "      <th>RFM_Segment</th>\n",
              "      <th>RFM_Score</th>\n",
              "    </tr>\n",
              "    <tr>\n",
              "      <th>Customer_ID</th>\n",
              "      <th></th>\n",
              "      <th></th>\n",
              "      <th></th>\n",
              "      <th></th>\n",
              "      <th></th>\n",
              "      <th></th>\n",
              "      <th></th>\n",
              "      <th></th>\n",
              "    </tr>\n",
              "  </thead>\n",
              "  <tbody>\n",
              "    <tr>\n",
              "      <th>1</th>\n",
              "      <td>345</td>\n",
              "      <td>1</td>\n",
              "      <td>16.29</td>\n",
              "      <td>1</td>\n",
              "      <td>1</td>\n",
              "      <td>2</td>\n",
              "      <td>1.01.02.0</td>\n",
              "      <td>4</td>\n",
              "    </tr>\n",
              "    <tr>\n",
              "      <th>2</th>\n",
              "      <td>196</td>\n",
              "      <td>2</td>\n",
              "      <td>22.77</td>\n",
              "      <td>2</td>\n",
              "      <td>1</td>\n",
              "      <td>2</td>\n",
              "      <td>2.01.02.0</td>\n",
              "      <td>5</td>\n",
              "    </tr>\n",
              "    <tr>\n",
              "      <th>3</th>\n",
              "      <td>335</td>\n",
              "      <td>1</td>\n",
              "      <td>10.92</td>\n",
              "      <td>1</td>\n",
              "      <td>1</td>\n",
              "      <td>2</td>\n",
              "      <td>1.01.02.0</td>\n",
              "      <td>4</td>\n",
              "    </tr>\n",
              "    <tr>\n",
              "      <th>4</th>\n",
              "      <td>55</td>\n",
              "      <td>2</td>\n",
              "      <td>33.29</td>\n",
              "      <td>3</td>\n",
              "      <td>1</td>\n",
              "      <td>3</td>\n",
              "      <td>3.01.03.0</td>\n",
              "      <td>7</td>\n",
              "    </tr>\n",
              "    <tr>\n",
              "      <th>5</th>\n",
              "      <td>121</td>\n",
              "      <td>5</td>\n",
              "      <td>78.82</td>\n",
              "      <td>3</td>\n",
              "      <td>2</td>\n",
              "      <td>4</td>\n",
              "      <td>3.02.04.0</td>\n",
              "      <td>9</td>\n",
              "    </tr>\n",
              "  </tbody>\n",
              "</table>\n",
              "</div>"
            ],
            "text/plain": [
              "             Recency  Frequency  MonetaryValue  R  F  M RFM_Segment  RFM_Score\n",
              "Customer_ID                                                                   \n",
              "1                345          1          16.29  1  1  2   1.01.02.0          4\n",
              "2                196          2          22.77  2  1  2   2.01.02.0          5\n",
              "3                335          1          10.92  1  1  2   1.01.02.0          4\n",
              "4                 55          2          33.29  3  1  3   3.01.03.0          7\n",
              "5                121          5          78.82  3  2  4   3.02.04.0          9"
            ]
          },
          "execution_count": 16,
          "metadata": {},
          "output_type": "execute_result"
        }
      ],
      "source": [
        "def join_rfm(x):\n",
        "    return str(x['R'])+str(x['F'])+str(x['M'])\n",
        "\n",
        "datamart_quartile['RFM_Segment'] = datamart_quartile.apply(join_rfm, axis=1)\n",
        "datamart_quartile['RFM_Score'] = datamart_quartile[['R']+['F']+['M']].sum(axis=1)\n",
        "\n",
        "datamart_quartile.head()"
      ]
    },
    {
      "cell_type": "markdown",
      "id": "d906b611",
      "metadata": {
        "papermill": {
          "duration": 0.035998,
          "end_time": "2021-09-12T09:52:51.236962",
          "exception": false,
          "start_time": "2021-09-12T09:52:51.200964",
          "status": "completed"
        },
        "tags": [],
        "id": "d906b611"
      },
      "source": [
        "#### RFM Analysis Results"
      ]
    },
    {
      "cell_type": "code",
      "execution_count": null,
      "id": "9dff1506",
      "metadata": {
        "execution": {
          "iopub.execute_input": "2021-09-12T09:52:51.314537Z",
          "iopub.status.busy": "2021-09-12T09:52:51.313884Z",
          "iopub.status.idle": "2021-09-12T09:52:51.323261Z",
          "shell.execute_reply": "2021-09-12T09:52:51.323725Z",
          "shell.execute_reply.started": "2021-09-12T09:38:07.804703Z"
        },
        "papermill": {
          "duration": 0.050507,
          "end_time": "2021-09-12T09:52:51.323910",
          "exception": false,
          "start_time": "2021-09-12T09:52:51.273403",
          "status": "completed"
        },
        "scrolled": true,
        "tags": [],
        "id": "9dff1506",
        "outputId": "84751e53-d0bf-43f3-90e2-d415979e4878"
      },
      "outputs": [
        {
          "data": {
            "text/plain": [
              "RFM_Segment\n",
              "4.02.04.0    2234\n",
              "1.01.01.0    2072\n",
              "1.01.02.0    1724\n",
              "2.01.01.0    1647\n",
              "2.01.02.0    1593\n",
              "3.01.02.0    1350\n",
              "2.01.03.0    1321\n",
              "3.01.01.0    1238\n",
              "3.01.03.0    1216\n",
              "1.01.03.0    1101\n",
              "4.01.03.0     976\n",
              "3.02.04.0     928\n",
              "4.01.02.0     892\n",
              "4.01.01.0     698\n",
              "3.01.04.0     548\n",
              "dtype: int64"
            ]
          },
          "execution_count": 17,
          "metadata": {},
          "output_type": "execute_result"
        }
      ],
      "source": [
        "# Largest 15 RFM segments\n",
        "\n",
        "datamart_quartile.groupby('RFM_Segment').size().sort_values(ascending=False).head(15)\n",
        "\n",
        "# We observe that most of the segments are 424 & 111"
      ]
    },
    {
      "cell_type": "code",
      "execution_count": null,
      "id": "4af50969",
      "metadata": {
        "execution": {
          "iopub.execute_input": "2021-09-12T09:52:51.401340Z",
          "iopub.status.busy": "2021-09-12T09:52:51.400687Z",
          "iopub.status.idle": "2021-09-12T09:52:51.414495Z",
          "shell.execute_reply": "2021-09-12T09:52:51.414915Z",
          "shell.execute_reply.started": "2021-09-12T09:38:07.816825Z"
        },
        "papermill": {
          "duration": 0.054579,
          "end_time": "2021-09-12T09:52:51.415122",
          "exception": false,
          "start_time": "2021-09-12T09:52:51.360543",
          "status": "completed"
        },
        "tags": [],
        "id": "4af50969",
        "outputId": "6016b900-d104-4d3a-efad-f4eb468c244c"
      },
      "outputs": [
        {
          "data": {
            "text/html": [
              "<div>\n",
              "<style scoped>\n",
              "    .dataframe tbody tr th:only-of-type {\n",
              "        vertical-align: middle;\n",
              "    }\n",
              "\n",
              "    .dataframe tbody tr th {\n",
              "        vertical-align: top;\n",
              "    }\n",
              "\n",
              "    .dataframe thead th {\n",
              "        text-align: right;\n",
              "    }\n",
              "</style>\n",
              "<table border=\"1\" class=\"dataframe\">\n",
              "  <thead>\n",
              "    <tr style=\"text-align: right;\">\n",
              "      <th></th>\n",
              "      <th>Recency</th>\n",
              "      <th>Frequency</th>\n",
              "      <th>MonetaryValue</th>\n",
              "      <th>R</th>\n",
              "      <th>F</th>\n",
              "      <th>M</th>\n",
              "      <th>RFM_Segment</th>\n",
              "      <th>RFM_Score</th>\n",
              "    </tr>\n",
              "    <tr>\n",
              "      <th>Customer_ID</th>\n",
              "      <th></th>\n",
              "      <th></th>\n",
              "      <th></th>\n",
              "      <th></th>\n",
              "      <th></th>\n",
              "      <th></th>\n",
              "      <th></th>\n",
              "      <th></th>\n",
              "    </tr>\n",
              "  </thead>\n",
              "  <tbody>\n",
              "  </tbody>\n",
              "</table>\n",
              "</div>"
            ],
            "text/plain": [
              "Empty DataFrame\n",
              "Columns: [Recency, Frequency, MonetaryValue, R, F, M, RFM_Segment, RFM_Score]\n",
              "Index: []"
            ]
          },
          "execution_count": 18,
          "metadata": {},
          "output_type": "execute_result"
        }
      ],
      "source": [
        "#Filter on RFM segments, select botton RFM segment 111\n",
        "datamart_quartile[datamart_quartile['RFM_Segment']=='111'][:5]"
      ]
    },
    {
      "cell_type": "code",
      "execution_count": null,
      "id": "1c80dace",
      "metadata": {
        "execution": {
          "iopub.execute_input": "2021-09-12T09:52:51.494606Z",
          "iopub.status.busy": "2021-09-12T09:52:51.493583Z",
          "iopub.status.idle": "2021-09-12T09:52:51.520092Z",
          "shell.execute_reply": "2021-09-12T09:52:51.520515Z",
          "shell.execute_reply.started": "2021-09-12T09:38:07.837420Z"
        },
        "papermill": {
          "duration": 0.067752,
          "end_time": "2021-09-12T09:52:51.520702",
          "exception": false,
          "start_time": "2021-09-12T09:52:51.452950",
          "status": "completed"
        },
        "tags": [],
        "id": "1c80dace",
        "outputId": "e6bb6582-dc57-4712-b8f3-043dba29a360"
      },
      "outputs": [
        {
          "data": {
            "text/html": [
              "<div>\n",
              "<style scoped>\n",
              "    .dataframe tbody tr th:only-of-type {\n",
              "        vertical-align: middle;\n",
              "    }\n",
              "\n",
              "    .dataframe tbody tr th {\n",
              "        vertical-align: top;\n",
              "    }\n",
              "\n",
              "    .dataframe thead tr th {\n",
              "        text-align: left;\n",
              "    }\n",
              "\n",
              "    .dataframe thead tr:last-of-type th {\n",
              "        text-align: right;\n",
              "    }\n",
              "</style>\n",
              "<table border=\"1\" class=\"dataframe\">\n",
              "  <thead>\n",
              "    <tr>\n",
              "      <th></th>\n",
              "      <th>Recency</th>\n",
              "      <th>Frequency</th>\n",
              "      <th colspan=\"2\" halign=\"left\">MonetaryValue</th>\n",
              "    </tr>\n",
              "    <tr>\n",
              "      <th></th>\n",
              "      <th>mean</th>\n",
              "      <th>mean</th>\n",
              "      <th>mean</th>\n",
              "      <th>count</th>\n",
              "    </tr>\n",
              "    <tr>\n",
              "      <th>RFM_Score</th>\n",
              "      <th></th>\n",
              "      <th></th>\n",
              "      <th></th>\n",
              "      <th></th>\n",
              "    </tr>\n",
              "  </thead>\n",
              "  <tbody>\n",
              "    <tr>\n",
              "      <th>3</th>\n",
              "      <td>303.7</td>\n",
              "      <td>1.0</td>\n",
              "      <td>6.0</td>\n",
              "      <td>2072</td>\n",
              "    </tr>\n",
              "    <tr>\n",
              "      <th>4</th>\n",
              "      <td>245.8</td>\n",
              "      <td>1.1</td>\n",
              "      <td>11.0</td>\n",
              "      <td>3371</td>\n",
              "    </tr>\n",
              "    <tr>\n",
              "      <th>5</th>\n",
              "      <td>184.1</td>\n",
              "      <td>1.3</td>\n",
              "      <td>19.0</td>\n",
              "      <td>3941</td>\n",
              "    </tr>\n",
              "    <tr>\n",
              "      <th>6</th>\n",
              "      <td>135.3</td>\n",
              "      <td>1.6</td>\n",
              "      <td>36.9</td>\n",
              "      <td>3939</td>\n",
              "    </tr>\n",
              "    <tr>\n",
              "      <th>7</th>\n",
              "      <td>94.6</td>\n",
              "      <td>2.2</td>\n",
              "      <td>53.9</td>\n",
              "      <td>2991</td>\n",
              "    </tr>\n",
              "    <tr>\n",
              "      <th>8</th>\n",
              "      <td>69.6</td>\n",
              "      <td>3.1</td>\n",
              "      <td>84.0</td>\n",
              "      <td>2281</td>\n",
              "    </tr>\n",
              "    <tr>\n",
              "      <th>9</th>\n",
              "      <td>50.1</td>\n",
              "      <td>5.4</td>\n",
              "      <td>144.9</td>\n",
              "      <td>1796</td>\n",
              "    </tr>\n",
              "    <tr>\n",
              "      <th>10</th>\n",
              "      <td>18.7</td>\n",
              "      <td>10.7</td>\n",
              "      <td>311.3</td>\n",
              "      <td>2234</td>\n",
              "    </tr>\n",
              "  </tbody>\n",
              "</table>\n",
              "</div>"
            ],
            "text/plain": [
              "          Recency Frequency MonetaryValue      \n",
              "             mean      mean          mean count\n",
              "RFM_Score                                      \n",
              "3           303.7       1.0           6.0  2072\n",
              "4           245.8       1.1          11.0  3371\n",
              "5           184.1       1.3          19.0  3941\n",
              "6           135.3       1.6          36.9  3939\n",
              "7            94.6       2.2          53.9  2991\n",
              "8            69.6       3.1          84.0  2281\n",
              "9            50.1       5.4         144.9  1796\n",
              "10           18.7      10.7         311.3  2234"
            ]
          },
          "execution_count": 19,
          "metadata": {},
          "output_type": "execute_result"
        }
      ],
      "source": [
        "#Summary (Look at Recency, Frequecny, MonetaryValue at RFM_score level)\n",
        "\n",
        "datamart_quartile.groupby('RFM_Score').agg({\n",
        "    'Recency':'mean',\n",
        "    'Frequency':'mean',\n",
        "    'MonetaryValue':['mean','count']\n",
        "}).round(1)\n",
        "\n",
        "# by count we see the size of each RFM_Score\n"
      ]
    },
    {
      "cell_type": "markdown",
      "id": "192f145b",
      "metadata": {
        "papermill": {
          "duration": 0.037079,
          "end_time": "2021-09-12T09:52:51.596175",
          "exception": false,
          "start_time": "2021-09-12T09:52:51.559096",
          "status": "completed"
        },
        "tags": [],
        "id": "192f145b"
      },
      "source": [
        "#### Manual grouping into named segments"
      ]
    },
    {
      "cell_type": "code",
      "execution_count": null,
      "id": "ef89afd3",
      "metadata": {
        "execution": {
          "iopub.execute_input": "2021-09-12T09:52:51.675572Z",
          "iopub.status.busy": "2021-09-12T09:52:51.674510Z",
          "iopub.status.idle": "2021-09-12T09:52:51.679197Z",
          "shell.execute_reply": "2021-09-12T09:52:51.679715Z",
          "shell.execute_reply.started": "2021-09-12T09:38:07.871963Z"
        },
        "papermill": {
          "duration": 0.046454,
          "end_time": "2021-09-12T09:52:51.679912",
          "exception": false,
          "start_time": "2021-09-12T09:52:51.633458",
          "status": "completed"
        },
        "tags": [],
        "id": "ef89afd3"
      },
      "outputs": [],
      "source": [
        "# manual choose the segment criteria\n",
        "\n",
        "def segment_me(df):\n",
        "    if df['RFM_Score'] >=9:\n",
        "        return 'Gold'\n",
        "    elif (df['RFM_Score']>=6) and (df['RFM_Score']<9):\n",
        "        return 'Silver'\n",
        "    else:\n",
        "        return 'Bronze'"
      ]
    },
    {
      "cell_type": "code",
      "execution_count": null,
      "id": "011fe774",
      "metadata": {
        "execution": {
          "iopub.execute_input": "2021-09-12T09:52:51.759381Z",
          "iopub.status.busy": "2021-09-12T09:52:51.758683Z",
          "iopub.status.idle": "2021-09-12T09:52:52.059582Z",
          "shell.execute_reply": "2021-09-12T09:52:52.060046Z",
          "shell.execute_reply.started": "2021-09-12T09:38:07.878389Z"
        },
        "papermill": {
          "duration": 0.342655,
          "end_time": "2021-09-12T09:52:52.060265",
          "exception": false,
          "start_time": "2021-09-12T09:52:51.717610",
          "status": "completed"
        },
        "tags": [],
        "id": "011fe774",
        "outputId": "20733fcf-a0c6-4734-f1d5-16a69dfb30a9"
      },
      "outputs": [
        {
          "data": {
            "text/html": [
              "<div>\n",
              "<style scoped>\n",
              "    .dataframe tbody tr th:only-of-type {\n",
              "        vertical-align: middle;\n",
              "    }\n",
              "\n",
              "    .dataframe tbody tr th {\n",
              "        vertical-align: top;\n",
              "    }\n",
              "\n",
              "    .dataframe thead th {\n",
              "        text-align: right;\n",
              "    }\n",
              "</style>\n",
              "<table border=\"1\" class=\"dataframe\">\n",
              "  <thead>\n",
              "    <tr style=\"text-align: right;\">\n",
              "      <th></th>\n",
              "      <th>Recency</th>\n",
              "      <th>Frequency</th>\n",
              "      <th>MonetaryValue</th>\n",
              "      <th>R</th>\n",
              "      <th>F</th>\n",
              "      <th>M</th>\n",
              "      <th>RFM_Segment</th>\n",
              "      <th>RFM_Score</th>\n",
              "      <th>General_Segment</th>\n",
              "    </tr>\n",
              "    <tr>\n",
              "      <th>Customer_ID</th>\n",
              "      <th></th>\n",
              "      <th></th>\n",
              "      <th></th>\n",
              "      <th></th>\n",
              "      <th></th>\n",
              "      <th></th>\n",
              "      <th></th>\n",
              "      <th></th>\n",
              "      <th></th>\n",
              "    </tr>\n",
              "  </thead>\n",
              "  <tbody>\n",
              "    <tr>\n",
              "      <th>1</th>\n",
              "      <td>345</td>\n",
              "      <td>1</td>\n",
              "      <td>16.29</td>\n",
              "      <td>1</td>\n",
              "      <td>1</td>\n",
              "      <td>2</td>\n",
              "      <td>1.01.02.0</td>\n",
              "      <td>4</td>\n",
              "      <td>Bronze</td>\n",
              "    </tr>\n",
              "    <tr>\n",
              "      <th>2</th>\n",
              "      <td>196</td>\n",
              "      <td>2</td>\n",
              "      <td>22.77</td>\n",
              "      <td>2</td>\n",
              "      <td>1</td>\n",
              "      <td>2</td>\n",
              "      <td>2.01.02.0</td>\n",
              "      <td>5</td>\n",
              "      <td>Bronze</td>\n",
              "    </tr>\n",
              "    <tr>\n",
              "      <th>3</th>\n",
              "      <td>335</td>\n",
              "      <td>1</td>\n",
              "      <td>10.92</td>\n",
              "      <td>1</td>\n",
              "      <td>1</td>\n",
              "      <td>2</td>\n",
              "      <td>1.01.02.0</td>\n",
              "      <td>4</td>\n",
              "      <td>Bronze</td>\n",
              "    </tr>\n",
              "    <tr>\n",
              "      <th>4</th>\n",
              "      <td>55</td>\n",
              "      <td>2</td>\n",
              "      <td>33.29</td>\n",
              "      <td>3</td>\n",
              "      <td>1</td>\n",
              "      <td>3</td>\n",
              "      <td>3.01.03.0</td>\n",
              "      <td>7</td>\n",
              "      <td>Silver</td>\n",
              "    </tr>\n",
              "    <tr>\n",
              "      <th>5</th>\n",
              "      <td>121</td>\n",
              "      <td>5</td>\n",
              "      <td>78.82</td>\n",
              "      <td>3</td>\n",
              "      <td>2</td>\n",
              "      <td>4</td>\n",
              "      <td>3.02.04.0</td>\n",
              "      <td>9</td>\n",
              "      <td>Gold</td>\n",
              "    </tr>\n",
              "  </tbody>\n",
              "</table>\n",
              "</div>"
            ],
            "text/plain": [
              "             Recency  Frequency  MonetaryValue  R  F  M RFM_Segment  \\\n",
              "Customer_ID                                                           \n",
              "1                345          1          16.29  1  1  2   1.01.02.0   \n",
              "2                196          2          22.77  2  1  2   2.01.02.0   \n",
              "3                335          1          10.92  1  1  2   1.01.02.0   \n",
              "4                 55          2          33.29  3  1  3   3.01.03.0   \n",
              "5                121          5          78.82  3  2  4   3.02.04.0   \n",
              "\n",
              "             RFM_Score General_Segment  \n",
              "Customer_ID                             \n",
              "1                    4          Bronze  \n",
              "2                    5          Bronze  \n",
              "3                    4          Bronze  \n",
              "4                    7          Silver  \n",
              "5                    9            Gold  "
            ]
          },
          "execution_count": 21,
          "metadata": {},
          "output_type": "execute_result"
        }
      ],
      "source": [
        "# create a column called general_segment, label the customers by the criteria set above\n",
        "datamart_quartile['General_Segment']=datamart_quartile.apply(segment_me,axis=1)\n",
        "datamart_quartile.head()"
      ]
    },
    {
      "cell_type": "code",
      "execution_count": null,
      "id": "35a2d018",
      "metadata": {
        "execution": {
          "iopub.execute_input": "2021-09-12T09:52:52.144862Z",
          "iopub.status.busy": "2021-09-12T09:52:52.140663Z",
          "iopub.status.idle": "2021-09-12T09:52:52.165833Z",
          "shell.execute_reply": "2021-09-12T09:52:52.165335Z",
          "shell.execute_reply.started": "2021-09-12T09:38:08.348295Z"
        },
        "papermill": {
          "duration": 0.066967,
          "end_time": "2021-09-12T09:52:52.165998",
          "exception": false,
          "start_time": "2021-09-12T09:52:52.099031",
          "status": "completed"
        },
        "tags": [],
        "id": "35a2d018",
        "outputId": "e050bc52-b92f-4cc5-98a1-3f06373b2449"
      },
      "outputs": [
        {
          "data": {
            "text/html": [
              "<div>\n",
              "<style scoped>\n",
              "    .dataframe tbody tr th:only-of-type {\n",
              "        vertical-align: middle;\n",
              "    }\n",
              "\n",
              "    .dataframe tbody tr th {\n",
              "        vertical-align: top;\n",
              "    }\n",
              "\n",
              "    .dataframe thead tr th {\n",
              "        text-align: left;\n",
              "    }\n",
              "\n",
              "    .dataframe thead tr:last-of-type th {\n",
              "        text-align: right;\n",
              "    }\n",
              "</style>\n",
              "<table border=\"1\" class=\"dataframe\">\n",
              "  <thead>\n",
              "    <tr>\n",
              "      <th></th>\n",
              "      <th>Recency</th>\n",
              "      <th>Frequency</th>\n",
              "      <th colspan=\"2\" halign=\"left\">MonetaryValue</th>\n",
              "    </tr>\n",
              "    <tr>\n",
              "      <th></th>\n",
              "      <th>mean</th>\n",
              "      <th>mean</th>\n",
              "      <th>mean</th>\n",
              "      <th>count</th>\n",
              "    </tr>\n",
              "    <tr>\n",
              "      <th>General_Segment</th>\n",
              "      <th></th>\n",
              "      <th></th>\n",
              "      <th></th>\n",
              "      <th></th>\n",
              "    </tr>\n",
              "  </thead>\n",
              "  <tbody>\n",
              "    <tr>\n",
              "      <th>Gold</th>\n",
              "      <td>32.7</td>\n",
              "      <td>8.3</td>\n",
              "      <td>237.1</td>\n",
              "      <td>4030</td>\n",
              "    </tr>\n",
              "    <tr>\n",
              "      <th>Silver</th>\n",
              "      <td>105.8</td>\n",
              "      <td>2.2</td>\n",
              "      <td>54.1</td>\n",
              "      <td>9211</td>\n",
              "    </tr>\n",
              "    <tr>\n",
              "      <th>Bronze</th>\n",
              "      <td>232.7</td>\n",
              "      <td>1.2</td>\n",
              "      <td>13.2</td>\n",
              "      <td>9384</td>\n",
              "    </tr>\n",
              "  </tbody>\n",
              "</table>\n",
              "</div>"
            ],
            "text/plain": [
              "                Recency Frequency MonetaryValue      \n",
              "                   mean      mean          mean count\n",
              "General_Segment                                      \n",
              "Gold               32.7       8.3         237.1  4030\n",
              "Silver            105.8       2.2          54.1  9211\n",
              "Bronze            232.7       1.2          13.2  9384"
            ]
          },
          "execution_count": 22,
          "metadata": {},
          "output_type": "execute_result"
        }
      ],
      "source": [
        "#Summary (Look at Recency, Frequecny, MonetaryValue at General_Segment level)\n",
        "\n",
        "datamart_quartile.groupby('General_Segment').agg({\n",
        "    'Recency':'mean',\n",
        "    'Frequency':'mean',\n",
        "    'MonetaryValue':['mean','count']\n",
        "}).round(1).sort_values(('Recency','mean'),ascending=True)"
      ]
    },
    {
      "cell_type": "markdown",
      "id": "2d3506e9",
      "metadata": {
        "papermill": {
          "duration": 0.03831,
          "end_time": "2021-09-12T09:52:52.243233",
          "exception": false,
          "start_time": "2021-09-12T09:52:52.204923",
          "status": "completed"
        },
        "tags": [],
        "id": "2d3506e9"
      },
      "source": [
        "<a id=\"section-four\"></a>\n",
        "### Step 4 - K-means clustering\n",
        "K-means clustering is one of the most popular and fastest unsupervised machine learning algorithms, aiming to classify similar customers into the same segment.\n",
        "\n",
        "\n",
        "The logic behind K-means is to find the centroid for k numbers of clusters and allocate every data point to the nearest clusters. (In other words, to minimize the sum of the squares of the distances from each data point to their assigned centroids)"
      ]
    },
    {
      "cell_type": "markdown",
      "id": "46674c35",
      "metadata": {
        "papermill": {
          "duration": 0.039032,
          "end_time": "2021-09-12T09:52:52.320557",
          "exception": false,
          "start_time": "2021-09-12T09:52:52.281525",
          "status": "completed"
        },
        "tags": [],
        "id": "46674c35"
      },
      "source": [
        "#### pre-processing for K-means clustering (metrics Recency, Frequency & MonetaryValue)\n",
        "3 assumtions for K-means: Skewness(symmetric), Center(same average) and Scale(same variance)"
      ]
    },
    {
      "cell_type": "code",
      "execution_count": null,
      "id": "033722a5",
      "metadata": {
        "execution": {
          "iopub.execute_input": "2021-09-12T09:52:52.404401Z",
          "iopub.status.busy": "2021-09-12T09:52:52.403727Z",
          "iopub.status.idle": "2021-09-12T09:52:52.420460Z",
          "shell.execute_reply": "2021-09-12T09:52:52.420916Z",
          "shell.execute_reply.started": "2021-09-12T09:38:08.376005Z"
        },
        "papermill": {
          "duration": 0.06235,
          "end_time": "2021-09-12T09:52:52.421112",
          "exception": false,
          "start_time": "2021-09-12T09:52:52.358762",
          "status": "completed"
        },
        "tags": [],
        "id": "033722a5",
        "outputId": "9e7db87a-0ba6-4f0b-8b78-63a350dc4408"
      },
      "outputs": [
        {
          "data": {
            "text/html": [
              "<div>\n",
              "<style scoped>\n",
              "    .dataframe tbody tr th:only-of-type {\n",
              "        vertical-align: middle;\n",
              "    }\n",
              "\n",
              "    .dataframe tbody tr th {\n",
              "        vertical-align: top;\n",
              "    }\n",
              "\n",
              "    .dataframe thead th {\n",
              "        text-align: right;\n",
              "    }\n",
              "</style>\n",
              "<table border=\"1\" class=\"dataframe\">\n",
              "  <thead>\n",
              "    <tr style=\"text-align: right;\">\n",
              "      <th></th>\n",
              "      <th>Recency</th>\n",
              "      <th>Frequency</th>\n",
              "      <th>MonetaryValue</th>\n",
              "    </tr>\n",
              "  </thead>\n",
              "  <tbody>\n",
              "    <tr>\n",
              "      <th>count</th>\n",
              "      <td>22625.000000</td>\n",
              "      <td>22625.000000</td>\n",
              "      <td>22625.000000</td>\n",
              "    </tr>\n",
              "    <tr>\n",
              "      <th>mean</th>\n",
              "      <td>145.408796</td>\n",
              "      <td>2.858873</td>\n",
              "      <td>69.747563</td>\n",
              "    </tr>\n",
              "    <tr>\n",
              "      <th>std</th>\n",
              "      <td>109.263227</td>\n",
              "      <td>4.000157</td>\n",
              "      <td>152.307769</td>\n",
              "    </tr>\n",
              "    <tr>\n",
              "      <th>min</th>\n",
              "      <td>1.000000</td>\n",
              "      <td>1.000000</td>\n",
              "      <td>0.140000</td>\n",
              "    </tr>\n",
              "    <tr>\n",
              "      <th>25%</th>\n",
              "      <td>45.000000</td>\n",
              "      <td>1.000000</td>\n",
              "      <td>10.170000</td>\n",
              "    </tr>\n",
              "    <tr>\n",
              "      <th>50%</th>\n",
              "      <td>121.000000</td>\n",
              "      <td>1.000000</td>\n",
              "      <td>23.850000</td>\n",
              "    </tr>\n",
              "    <tr>\n",
              "      <th>75%</th>\n",
              "      <td>243.000000</td>\n",
              "      <td>3.000000</td>\n",
              "      <td>63.070000</td>\n",
              "    </tr>\n",
              "    <tr>\n",
              "      <th>max</th>\n",
              "      <td>365.000000</td>\n",
              "      <td>99.000000</td>\n",
              "      <td>3985.940000</td>\n",
              "    </tr>\n",
              "  </tbody>\n",
              "</table>\n",
              "</div>"
            ],
            "text/plain": [
              "            Recency     Frequency  MonetaryValue\n",
              "count  22625.000000  22625.000000   22625.000000\n",
              "mean     145.408796      2.858873      69.747563\n",
              "std      109.263227      4.000157     152.307769\n",
              "min        1.000000      1.000000       0.140000\n",
              "25%       45.000000      1.000000      10.170000\n",
              "50%      121.000000      1.000000      23.850000\n",
              "75%      243.000000      3.000000      63.070000\n",
              "max      365.000000     99.000000    3985.940000"
            ]
          },
          "execution_count": 23,
          "metadata": {},
          "output_type": "execute_result"
        }
      ],
      "source": [
        "# Before K-means clustering, we should check if it fits the 3 assumptions\n",
        "# The variablew we are observing is Recency, Frequency, and MonetaryValue\n",
        "\n",
        "datamart.describe()\n",
        "# They share different mean and std which it is against the K means assumptions"
      ]
    },
    {
      "cell_type": "code",
      "execution_count": null,
      "id": "f83155d9",
      "metadata": {
        "execution": {
          "iopub.execute_input": "2021-09-12T09:52:52.502423Z",
          "iopub.status.busy": "2021-09-12T09:52:52.501782Z",
          "iopub.status.idle": "2021-09-12T09:52:53.821316Z",
          "shell.execute_reply": "2021-09-12T09:52:53.820830Z",
          "shell.execute_reply.started": "2021-09-12T09:38:08.399473Z"
        },
        "papermill": {
          "duration": 1.361591,
          "end_time": "2021-09-12T09:52:53.821475",
          "exception": false,
          "start_time": "2021-09-12T09:52:52.459884",
          "status": "completed"
        },
        "scrolled": true,
        "tags": [],
        "id": "f83155d9",
        "outputId": "ea565d5e-4505-413a-c467-442e68294345"
      },
      "outputs": [
        {
          "name": "stderr",
          "output_type": "stream",
          "text": [
            "/opt/conda/lib/python3.7/site-packages/seaborn/distributions.py:2619: FutureWarning: `distplot` is a deprecated function and will be removed in a future version. Please adapt your code to use either `displot` (a figure-level function with similar flexibility) or `histplot` (an axes-level function for histograms).\n",
            "  warnings.warn(msg, FutureWarning)\n",
            "/opt/conda/lib/python3.7/site-packages/seaborn/distributions.py:2619: FutureWarning: `distplot` is a deprecated function and will be removed in a future version. Please adapt your code to use either `displot` (a figure-level function with similar flexibility) or `histplot` (an axes-level function for histograms).\n",
            "  warnings.warn(msg, FutureWarning)\n",
            "/opt/conda/lib/python3.7/site-packages/seaborn/distributions.py:2619: FutureWarning: `distplot` is a deprecated function and will be removed in a future version. Please adapt your code to use either `displot` (a figure-level function with similar flexibility) or `histplot` (an axes-level function for histograms).\n",
            "  warnings.warn(msg, FutureWarning)\n"
          ]
        },
        {
          "data": {
            "text/plain": [
              "<AxesSubplot:xlabel='MonetaryValue', ylabel='Density'>"
            ]
          },
          "execution_count": 24,
          "metadata": {},
          "output_type": "execute_result"
        },
        {
          "data": {
            "image/png": "[encoded data removed]",
            "text/plain": [
              "<Figure size 432x288 with 3 Axes>"
            ]
          },
          "metadata": {
            "needs_background": "light"
          },
          "output_type": "display_data"
        }
      ],
      "source": [
        "# Visualize the variables (Recency, Frequency & MonetaryValue) to check the Skewness\n",
        "plt.subplot(3,1,1); sns.distplot(datamart['Recency'])\n",
        "plt.subplot(3,1,2); sns.distplot(datamart['Frequency'])\n",
        "plt.subplot(3,1,3); sns.distplot(datamart['MonetaryValue'])"
      ]
    },
    {
      "cell_type": "markdown",
      "id": "dba97e3e",
      "metadata": {
        "papermill": {
          "duration": 0.03989,
          "end_time": "2021-09-12T09:52:53.902431",
          "exception": false,
          "start_time": "2021-09-12T09:52:53.862541",
          "status": "completed"
        },
        "tags": [],
        "id": "dba97e3e"
      },
      "source": [
        "#### Unskew the data for K-means clustering"
      ]
    },
    {
      "cell_type": "code",
      "execution_count": null,
      "id": "c18a8ccf",
      "metadata": {
        "execution": {
          "iopub.execute_input": "2021-09-12T09:52:53.989090Z",
          "iopub.status.busy": "2021-09-12T09:52:53.988407Z",
          "iopub.status.idle": "2021-09-12T09:52:53.993876Z",
          "shell.execute_reply": "2021-09-12T09:52:53.994347Z",
          "shell.execute_reply.started": "2021-09-12T09:38:09.779012Z"
        },
        "papermill": {
          "duration": 0.05163,
          "end_time": "2021-09-12T09:52:53.994562",
          "exception": false,
          "start_time": "2021-09-12T09:52:53.942932",
          "status": "completed"
        },
        "tags": [],
        "id": "c18a8ccf"
      },
      "outputs": [],
      "source": [
        "# unskew by getting the logarithm of the values\n",
        "datamart_log = np.log(datamart)"
      ]
    },
    {
      "cell_type": "code",
      "execution_count": null,
      "id": "ee8f87d9",
      "metadata": {
        "execution": {
          "iopub.execute_input": "2021-09-12T09:52:54.081772Z",
          "iopub.status.busy": "2021-09-12T09:52:54.081027Z",
          "iopub.status.idle": "2021-09-12T09:52:55.250407Z",
          "shell.execute_reply": "2021-09-12T09:52:55.249702Z",
          "shell.execute_reply.started": "2021-09-12T09:38:09.788434Z"
        },
        "papermill": {
          "duration": 1.214605,
          "end_time": "2021-09-12T09:52:55.250573",
          "exception": false,
          "start_time": "2021-09-12T09:52:54.035968",
          "status": "completed"
        },
        "scrolled": true,
        "tags": [],
        "id": "ee8f87d9",
        "outputId": "fc733457-dd3d-41f6-9c5b-a63082619381"
      },
      "outputs": [
        {
          "name": "stderr",
          "output_type": "stream",
          "text": [
            "/opt/conda/lib/python3.7/site-packages/seaborn/distributions.py:2619: FutureWarning: `distplot` is a deprecated function and will be removed in a future version. Please adapt your code to use either `displot` (a figure-level function with similar flexibility) or `histplot` (an axes-level function for histograms).\n",
            "  warnings.warn(msg, FutureWarning)\n",
            "/opt/conda/lib/python3.7/site-packages/seaborn/distributions.py:2619: FutureWarning: `distplot` is a deprecated function and will be removed in a future version. Please adapt your code to use either `displot` (a figure-level function with similar flexibility) or `histplot` (an axes-level function for histograms).\n",
            "  warnings.warn(msg, FutureWarning)\n",
            "/opt/conda/lib/python3.7/site-packages/seaborn/distributions.py:2619: FutureWarning: `distplot` is a deprecated function and will be removed in a future version. Please adapt your code to use either `displot` (a figure-level function with similar flexibility) or `histplot` (an axes-level function for histograms).\n",
            "  warnings.warn(msg, FutureWarning)\n"
          ]
        },
        {
          "data": {
            "image/png": "[encoded data removed]",
            "text/plain": [
              "<Figure size 432x288 with 3 Axes>"
            ]
          },
          "metadata": {
            "needs_background": "light"
          },
          "output_type": "display_data"
        }
      ],
      "source": [
        "# Visualize again to check its skewness\n",
        "plt.subplot(3,1,1); sns.distplot(datamart_log['Recency'])\n",
        "plt.subplot(3,1,2); sns.distplot(datamart_log['Frequency'])\n",
        "plt.subplot(3,1,3); sns.distplot(datamart_log['MonetaryValue'])\n",
        "plt.show()\n",
        "\n",
        "# MonetaryValue after log is less skewed than before"
      ]
    },
    {
      "cell_type": "markdown",
      "id": "ebbf2f9d",
      "metadata": {
        "papermill": {
          "duration": 0.043963,
          "end_time": "2021-09-12T09:52:55.337143",
          "exception": false,
          "start_time": "2021-09-12T09:52:55.293180",
          "status": "completed"
        },
        "tags": [],
        "id": "ebbf2f9d"
      },
      "source": [
        "#### Normalize the data for K-means clustering"
      ]
    },
    {
      "cell_type": "code",
      "execution_count": null,
      "id": "ed85d779",
      "metadata": {
        "execution": {
          "iopub.execute_input": "2021-09-12T09:52:55.428091Z",
          "iopub.status.busy": "2021-09-12T09:52:55.427335Z",
          "iopub.status.idle": "2021-09-12T09:52:55.533410Z",
          "shell.execute_reply": "2021-09-12T09:52:55.532879Z",
          "shell.execute_reply.started": "2021-09-12T09:38:11.066515Z"
        },
        "papermill": {
          "duration": 0.152957,
          "end_time": "2021-09-12T09:52:55.533578",
          "exception": false,
          "start_time": "2021-09-12T09:52:55.380621",
          "status": "completed"
        },
        "tags": [],
        "id": "ed85d779"
      },
      "outputs": [],
      "source": [
        "# normalize by applying sklearn\n",
        "from sklearn.preprocessing import StandardScaler"
      ]
    },
    {
      "cell_type": "code",
      "execution_count": null,
      "id": "534d0045",
      "metadata": {
        "execution": {
          "iopub.execute_input": "2021-09-12T09:52:55.623603Z",
          "iopub.status.busy": "2021-09-12T09:52:55.622973Z",
          "iopub.status.idle": "2021-09-12T09:52:55.631316Z",
          "shell.execute_reply": "2021-09-12T09:52:55.630714Z",
          "shell.execute_reply.started": "2021-09-12T09:38:11.194061Z"
        },
        "papermill": {
          "duration": 0.055957,
          "end_time": "2021-09-12T09:52:55.631463",
          "exception": false,
          "start_time": "2021-09-12T09:52:55.575506",
          "status": "completed"
        },
        "tags": [],
        "id": "534d0045",
        "outputId": "cbd60f49-02d1-4892-dbe0-67ada7526e80"
      },
      "outputs": [
        {
          "data": {
            "text/plain": [
              "StandardScaler()"
            ]
          },
          "execution_count": 28,
          "metadata": {},
          "output_type": "execute_result"
        }
      ],
      "source": [
        "scaler = StandardScaler()\n",
        "scaler.fit(datamart_log)"
      ]
    },
    {
      "cell_type": "code",
      "execution_count": null,
      "id": "6d397799",
      "metadata": {
        "execution": {
          "iopub.execute_input": "2021-09-12T09:52:55.722381Z",
          "iopub.status.busy": "2021-09-12T09:52:55.721720Z",
          "iopub.status.idle": "2021-09-12T09:52:55.723895Z",
          "shell.execute_reply": "2021-09-12T09:52:55.724343Z",
          "shell.execute_reply.started": "2021-09-12T09:38:11.206544Z"
        },
        "papermill": {
          "duration": 0.050872,
          "end_time": "2021-09-12T09:52:55.724531",
          "exception": false,
          "start_time": "2021-09-12T09:52:55.673659",
          "status": "completed"
        },
        "tags": [],
        "id": "6d397799"
      },
      "outputs": [],
      "source": [
        "# store the normalized data back to log data for clustering\n",
        "datamart_normalized = scaler.transform(datamart_log)"
      ]
    },
    {
      "cell_type": "code",
      "execution_count": null,
      "id": "5aaccf71",
      "metadata": {
        "execution": {
          "iopub.execute_input": "2021-09-12T09:52:55.823535Z",
          "iopub.status.busy": "2021-09-12T09:52:55.813175Z",
          "iopub.status.idle": "2021-09-12T09:52:55.827385Z",
          "shell.execute_reply": "2021-09-12T09:52:55.826872Z",
          "shell.execute_reply.started": "2021-09-12T09:38:11.214703Z"
        },
        "papermill": {
          "duration": 0.060566,
          "end_time": "2021-09-12T09:52:55.827557",
          "exception": false,
          "start_time": "2021-09-12T09:52:55.766991",
          "status": "completed"
        },
        "scrolled": true,
        "tags": [],
        "id": "5aaccf71",
        "outputId": "1ac1604d-91ee-4d9d-fe50-91a53a4b8cb7"
      },
      "outputs": [
        {
          "data": {
            "text/html": [
              "<div>\n",
              "<style scoped>\n",
              "    .dataframe tbody tr th:only-of-type {\n",
              "        vertical-align: middle;\n",
              "    }\n",
              "\n",
              "    .dataframe tbody tr th {\n",
              "        vertical-align: top;\n",
              "    }\n",
              "\n",
              "    .dataframe thead th {\n",
              "        text-align: right;\n",
              "    }\n",
              "</style>\n",
              "<table border=\"1\" class=\"dataframe\">\n",
              "  <thead>\n",
              "    <tr style=\"text-align: right;\">\n",
              "      <th></th>\n",
              "      <th>Recency</th>\n",
              "      <th>Frequency</th>\n",
              "      <th>MonetaryValue</th>\n",
              "    </tr>\n",
              "    <tr>\n",
              "      <th>Customer_ID</th>\n",
              "      <th></th>\n",
              "      <th></th>\n",
              "      <th></th>\n",
              "    </tr>\n",
              "  </thead>\n",
              "  <tbody>\n",
              "    <tr>\n",
              "      <th>1</th>\n",
              "      <td>1.119616</td>\n",
              "      <td>-0.800890</td>\n",
              "      <td>-0.368568</td>\n",
              "    </tr>\n",
              "    <tr>\n",
              "      <th>2</th>\n",
              "      <td>0.648626</td>\n",
              "      <td>0.071746</td>\n",
              "      <td>-0.115912</td>\n",
              "    </tr>\n",
              "    <tr>\n",
              "      <th>3</th>\n",
              "      <td>1.095115</td>\n",
              "      <td>-0.800890</td>\n",
              "      <td>-0.670309</td>\n",
              "    </tr>\n",
              "    <tr>\n",
              "      <th>4</th>\n",
              "      <td>-0.409904</td>\n",
              "      <td>0.071746</td>\n",
              "      <td>0.170634</td>\n",
              "    </tr>\n",
              "    <tr>\n",
              "      <th>5</th>\n",
              "      <td>0.246862</td>\n",
              "      <td>1.225308</td>\n",
              "      <td>0.820891</td>\n",
              "    </tr>\n",
              "  </tbody>\n",
              "</table>\n",
              "</div>"
            ],
            "text/plain": [
              "              Recency  Frequency  MonetaryValue\n",
              "Customer_ID                                    \n",
              "1            1.119616  -0.800890      -0.368568\n",
              "2            0.648626   0.071746      -0.115912\n",
              "3            1.095115  -0.800890      -0.670309\n",
              "4           -0.409904   0.071746       0.170634\n",
              "5            0.246862   1.225308       0.820891"
            ]
          },
          "execution_count": 30,
          "metadata": {},
          "output_type": "execute_result"
        }
      ],
      "source": [
        "#create dataframe with datamart_normalized\n",
        "datamart_normalized = pd.DataFrame(data=datamart_normalized,\n",
        "                                    index=datamart.index,\n",
        "                                    columns=datamart.columns)\n",
        "\n",
        "datamart_normalized.head()"
      ]
    },
    {
      "cell_type": "markdown",
      "id": "4c1ae1a6",
      "metadata": {
        "papermill": {
          "duration": 0.04366,
          "end_time": "2021-09-12T09:52:55.915060",
          "exception": false,
          "start_time": "2021-09-12T09:52:55.871400",
          "status": "completed"
        },
        "tags": [],
        "id": "4c1ae1a6"
      },
      "source": [
        "#### Running K-means\n",
        "Deciding how many clusters by using Elbow method.\n",
        "\n",
        "SSE = sum of squared errors.\n",
        "\n",
        "After running Kmeans with k clusters, we calcuate its SSE for each k clusters.\n",
        "\n",
        "By finding the elbow point, where it changed the angle the most, it can be used as a reference to determine the numbers of clusters for K-means.\n"
      ]
    },
    {
      "cell_type": "code",
      "execution_count": null,
      "id": "1b35da6c",
      "metadata": {
        "execution": {
          "iopub.execute_input": "2021-09-12T09:52:56.007907Z",
          "iopub.status.busy": "2021-09-12T09:52:56.007199Z",
          "iopub.status.idle": "2021-09-12T09:52:56.277556Z",
          "shell.execute_reply": "2021-09-12T09:52:56.276801Z",
          "shell.execute_reply.started": "2021-09-12T09:38:11.238854Z"
        },
        "papermill": {
          "duration": 0.318867,
          "end_time": "2021-09-12T09:52:56.277715",
          "exception": false,
          "start_time": "2021-09-12T09:52:55.958848",
          "status": "completed"
        },
        "tags": [],
        "id": "1b35da6c"
      },
      "outputs": [],
      "source": [
        "from sklearn.cluster import KMeans"
      ]
    },
    {
      "cell_type": "code",
      "execution_count": null,
      "id": "23aa6daf",
      "metadata": {
        "execution": {
          "iopub.execute_input": "2021-09-12T09:52:56.375102Z",
          "iopub.status.busy": "2021-09-12T09:52:56.374359Z",
          "iopub.status.idle": "2021-09-12T09:53:12.531633Z",
          "shell.execute_reply": "2021-09-12T09:53:12.532259Z",
          "shell.execute_reply.started": "2021-09-12T09:38:11.512188Z"
        },
        "papermill": {
          "duration": 16.211942,
          "end_time": "2021-09-12T09:53:12.532480",
          "exception": false,
          "start_time": "2021-09-12T09:52:56.320538",
          "status": "completed"
        },
        "tags": [],
        "id": "23aa6daf",
        "outputId": "4e8b85f8-cc0f-4aa1-ed9d-e4d6524b3dd1"
      },
      "outputs": [
        {
          "data": {
            "image/png": "[encoded data removed]",
            "text/plain": [
              "<Figure size 432x288 with 1 Axes>"
            ]
          },
          "metadata": {
            "needs_background": "light"
          },
          "output_type": "display_data"
        }
      ],
      "source": [
        "# decide how many groups (K) with Elbow criterion method\n",
        "\n",
        "#fit Kmeans and calculate SSE for each K\n",
        "sse = {}\n",
        "\n",
        "for k in range(1,11):\n",
        "    kmeans = KMeans(n_clusters=k, random_state=1)\n",
        "    kmeans.fit(datamart_normalized)\n",
        "    sse[k] = kmeans.inertia_\n",
        "\n",
        "\n",
        "# plot sse\n",
        "sns.pointplot(x=list(sse.keys()), y = list(sse.values()))\n",
        "plt.title('The Elbow Method')\n",
        "plt.xlabel('k')\n",
        "plt.ylabel('SSE')\n",
        "plt.show()\n",
        "\n",
        "# 2 is the elbow point, thus we can try 2 or 3 clusters for K-means."
      ]
    },
    {
      "cell_type": "markdown",
      "id": "5d5faac0",
      "metadata": {
        "papermill": {
          "duration": 0.054832,
          "end_time": "2021-09-12T09:53:12.642596",
          "exception": false,
          "start_time": "2021-09-12T09:53:12.587764",
          "status": "completed"
        },
        "tags": [],
        "id": "5d5faac0"
      },
      "source": [
        "#### Analyze average RFM values of each clustering solution (k=2  & k =3)"
      ]
    },
    {
      "cell_type": "code",
      "execution_count": null,
      "id": "2152961c",
      "metadata": {
        "execution": {
          "iopub.execute_input": "2021-09-12T09:53:12.758923Z",
          "iopub.status.busy": "2021-09-12T09:53:12.758154Z",
          "iopub.status.idle": "2021-09-12T09:53:13.991617Z",
          "shell.execute_reply": "2021-09-12T09:53:13.992363Z",
          "shell.execute_reply.started": "2021-09-12T09:38:27.699300Z"
        },
        "papermill": {
          "duration": 1.294509,
          "end_time": "2021-09-12T09:53:13.992603",
          "exception": false,
          "start_time": "2021-09-12T09:53:12.698094",
          "status": "completed"
        },
        "tags": [],
        "id": "2152961c",
        "outputId": "a5b1357c-5bde-44b1-e81b-5ee3fbf5bf8e"
      },
      "outputs": [
        {
          "data": {
            "text/html": [
              "<div>\n",
              "<style scoped>\n",
              "    .dataframe tbody tr th:only-of-type {\n",
              "        vertical-align: middle;\n",
              "    }\n",
              "\n",
              "    .dataframe tbody tr th {\n",
              "        vertical-align: top;\n",
              "    }\n",
              "\n",
              "    .dataframe thead th {\n",
              "        text-align: right;\n",
              "    }\n",
              "</style>\n",
              "<table border=\"1\" class=\"dataframe\">\n",
              "  <thead>\n",
              "    <tr style=\"text-align: right;\">\n",
              "      <th></th>\n",
              "      <th>Recency</th>\n",
              "      <th>Frequency</th>\n",
              "      <th>MonetaryValue</th>\n",
              "      <th>Cluster</th>\n",
              "    </tr>\n",
              "    <tr>\n",
              "      <th>Customer_ID</th>\n",
              "      <th></th>\n",
              "      <th></th>\n",
              "      <th></th>\n",
              "      <th></th>\n",
              "    </tr>\n",
              "  </thead>\n",
              "  <tbody>\n",
              "    <tr>\n",
              "      <th>1</th>\n",
              "      <td>345</td>\n",
              "      <td>1</td>\n",
              "      <td>16.29</td>\n",
              "      <td>1</td>\n",
              "    </tr>\n",
              "    <tr>\n",
              "      <th>2</th>\n",
              "      <td>196</td>\n",
              "      <td>2</td>\n",
              "      <td>22.77</td>\n",
              "      <td>1</td>\n",
              "    </tr>\n",
              "    <tr>\n",
              "      <th>3</th>\n",
              "      <td>335</td>\n",
              "      <td>1</td>\n",
              "      <td>10.92</td>\n",
              "      <td>1</td>\n",
              "    </tr>\n",
              "    <tr>\n",
              "      <th>4</th>\n",
              "      <td>55</td>\n",
              "      <td>2</td>\n",
              "      <td>33.29</td>\n",
              "      <td>1</td>\n",
              "    </tr>\n",
              "    <tr>\n",
              "      <th>5</th>\n",
              "      <td>121</td>\n",
              "      <td>5</td>\n",
              "      <td>78.82</td>\n",
              "      <td>0</td>\n",
              "    </tr>\n",
              "    <tr>\n",
              "      <th>...</th>\n",
              "      <td>...</td>\n",
              "      <td>...</td>\n",
              "      <td>...</td>\n",
              "      <td>...</td>\n",
              "    </tr>\n",
              "    <tr>\n",
              "      <th>22621</th>\n",
              "      <td>81</td>\n",
              "      <td>1</td>\n",
              "      <td>9.69</td>\n",
              "      <td>1</td>\n",
              "    </tr>\n",
              "    <tr>\n",
              "      <th>22622</th>\n",
              "      <td>16</td>\n",
              "      <td>1</td>\n",
              "      <td>6.07</td>\n",
              "      <td>1</td>\n",
              "    </tr>\n",
              "    <tr>\n",
              "      <th>22623</th>\n",
              "      <td>11</td>\n",
              "      <td>1</td>\n",
              "      <td>128.01</td>\n",
              "      <td>0</td>\n",
              "    </tr>\n",
              "    <tr>\n",
              "      <th>22624</th>\n",
              "      <td>324</td>\n",
              "      <td>1</td>\n",
              "      <td>19.60</td>\n",
              "      <td>1</td>\n",
              "    </tr>\n",
              "    <tr>\n",
              "      <th>22625</th>\n",
              "      <td>1</td>\n",
              "      <td>4</td>\n",
              "      <td>83.62</td>\n",
              "      <td>0</td>\n",
              "    </tr>\n",
              "  </tbody>\n",
              "</table>\n",
              "<p>22625 rows × 4 columns</p>\n",
              "</div>"
            ],
            "text/plain": [
              "             Recency  Frequency  MonetaryValue  Cluster\n",
              "Customer_ID                                            \n",
              "1                345          1          16.29        1\n",
              "2                196          2          22.77        1\n",
              "3                335          1          10.92        1\n",
              "4                 55          2          33.29        1\n",
              "5                121          5          78.82        0\n",
              "...              ...        ...            ...      ...\n",
              "22621             81          1           9.69        1\n",
              "22622             16          1           6.07        1\n",
              "22623             11          1         128.01        0\n",
              "22624            324          1          19.60        1\n",
              "22625              1          4          83.62        0\n",
              "\n",
              "[22625 rows x 4 columns]"
            ]
          },
          "execution_count": 33,
          "metadata": {},
          "output_type": "execute_result"
        }
      ],
      "source": [
        "# Run K-means clustering when K=2\n",
        "\n",
        "kmeans2 = KMeans(n_clusters=2, random_state=1)\n",
        "kmeans2.fit(datamart_normalized)\n",
        "cluster_labels_k2 = kmeans2.labels_\n",
        "\n",
        "#Create a dataframe and assign the label back\n",
        "datamart_rfm_k2 = datamart.assign(Cluster = cluster_labels_k2)\n",
        "datamart_rfm_k2"
      ]
    },
    {
      "cell_type": "code",
      "execution_count": null,
      "id": "20697581",
      "metadata": {
        "execution": {
          "iopub.execute_input": "2021-09-12T09:53:14.124960Z",
          "iopub.status.busy": "2021-09-12T09:53:14.123848Z",
          "iopub.status.idle": "2021-09-12T09:53:14.146140Z",
          "shell.execute_reply": "2021-09-12T09:53:14.146694Z",
          "shell.execute_reply.started": "2021-09-12T09:38:29.089262Z"
        },
        "papermill": {
          "duration": 0.09239,
          "end_time": "2021-09-12T09:53:14.146908",
          "exception": false,
          "start_time": "2021-09-12T09:53:14.054518",
          "status": "completed"
        },
        "tags": [],
        "id": "20697581",
        "outputId": "eabda76f-e208-4f48-b20d-d371c3f8349b"
      },
      "outputs": [
        {
          "data": {
            "text/html": [
              "<div>\n",
              "<style scoped>\n",
              "    .dataframe tbody tr th:only-of-type {\n",
              "        vertical-align: middle;\n",
              "    }\n",
              "\n",
              "    .dataframe tbody tr th {\n",
              "        vertical-align: top;\n",
              "    }\n",
              "\n",
              "    .dataframe thead tr th {\n",
              "        text-align: left;\n",
              "    }\n",
              "\n",
              "    .dataframe thead tr:last-of-type th {\n",
              "        text-align: right;\n",
              "    }\n",
              "</style>\n",
              "<table border=\"1\" class=\"dataframe\">\n",
              "  <thead>\n",
              "    <tr>\n",
              "      <th></th>\n",
              "      <th>Recency</th>\n",
              "      <th>Frequency</th>\n",
              "      <th colspan=\"2\" halign=\"left\">MonetaryValue</th>\n",
              "    </tr>\n",
              "    <tr>\n",
              "      <th></th>\n",
              "      <th>mean</th>\n",
              "      <th>mean</th>\n",
              "      <th>mean</th>\n",
              "      <th>count</th>\n",
              "    </tr>\n",
              "    <tr>\n",
              "      <th>Cluster</th>\n",
              "      <th></th>\n",
              "      <th></th>\n",
              "      <th></th>\n",
              "      <th></th>\n",
              "    </tr>\n",
              "  </thead>\n",
              "  <tbody>\n",
              "    <tr>\n",
              "      <th>0</th>\n",
              "      <td>61.0</td>\n",
              "      <td>6.0</td>\n",
              "      <td>171.0</td>\n",
              "      <td>7230</td>\n",
              "    </tr>\n",
              "    <tr>\n",
              "      <th>1</th>\n",
              "      <td>185.0</td>\n",
              "      <td>1.0</td>\n",
              "      <td>22.0</td>\n",
              "      <td>15395</td>\n",
              "    </tr>\n",
              "  </tbody>\n",
              "</table>\n",
              "</div>"
            ],
            "text/plain": [
              "        Recency Frequency MonetaryValue       \n",
              "           mean      mean          mean  count\n",
              "Cluster                                       \n",
              "0          61.0       6.0         171.0   7230\n",
              "1         185.0       1.0          22.0  15395"
            ]
          },
          "execution_count": 34,
          "metadata": {},
          "output_type": "execute_result"
        }
      ],
      "source": [
        "#Summary (Look at Recency, Frequecny, MonetaryValue at cluster level)\n",
        "\n",
        "datamart_rfm_k2.groupby('Cluster').agg({\n",
        "    'Recency':'mean',\n",
        "    'Frequency':'mean',\n",
        "    'MonetaryValue':['mean','count']\n",
        "}).round(0).sort_values(('Recency','mean'),ascending=True)"
      ]
    },
    {
      "cell_type": "code",
      "execution_count": null,
      "id": "d99a0aea",
      "metadata": {
        "execution": {
          "iopub.execute_input": "2021-09-12T09:53:14.273509Z",
          "iopub.status.busy": "2021-09-12T09:53:14.272746Z",
          "iopub.status.idle": "2021-09-12T09:53:15.654873Z",
          "shell.execute_reply": "2021-09-12T09:53:15.656008Z",
          "shell.execute_reply.started": "2021-09-12T09:38:29.117441Z"
        },
        "papermill": {
          "duration": 1.451235,
          "end_time": "2021-09-12T09:53:15.656265",
          "exception": false,
          "start_time": "2021-09-12T09:53:14.205030",
          "status": "completed"
        },
        "tags": [],
        "id": "d99a0aea",
        "outputId": "19cd260a-4100-4072-97be-e7e7f97e5fe9"
      },
      "outputs": [
        {
          "data": {
            "text/html": [
              "<div>\n",
              "<style scoped>\n",
              "    .dataframe tbody tr th:only-of-type {\n",
              "        vertical-align: middle;\n",
              "    }\n",
              "\n",
              "    .dataframe tbody tr th {\n",
              "        vertical-align: top;\n",
              "    }\n",
              "\n",
              "    .dataframe thead th {\n",
              "        text-align: right;\n",
              "    }\n",
              "</style>\n",
              "<table border=\"1\" class=\"dataframe\">\n",
              "  <thead>\n",
              "    <tr style=\"text-align: right;\">\n",
              "      <th></th>\n",
              "      <th>Recency</th>\n",
              "      <th>Frequency</th>\n",
              "      <th>MonetaryValue</th>\n",
              "      <th>Cluster</th>\n",
              "    </tr>\n",
              "    <tr>\n",
              "      <th>Customer_ID</th>\n",
              "      <th></th>\n",
              "      <th></th>\n",
              "      <th></th>\n",
              "      <th></th>\n",
              "    </tr>\n",
              "  </thead>\n",
              "  <tbody>\n",
              "    <tr>\n",
              "      <th>1</th>\n",
              "      <td>345</td>\n",
              "      <td>1</td>\n",
              "      <td>16.29</td>\n",
              "      <td>0</td>\n",
              "    </tr>\n",
              "    <tr>\n",
              "      <th>2</th>\n",
              "      <td>196</td>\n",
              "      <td>2</td>\n",
              "      <td>22.77</td>\n",
              "      <td>2</td>\n",
              "    </tr>\n",
              "    <tr>\n",
              "      <th>3</th>\n",
              "      <td>335</td>\n",
              "      <td>1</td>\n",
              "      <td>10.92</td>\n",
              "      <td>0</td>\n",
              "    </tr>\n",
              "    <tr>\n",
              "      <th>4</th>\n",
              "      <td>55</td>\n",
              "      <td>2</td>\n",
              "      <td>33.29</td>\n",
              "      <td>2</td>\n",
              "    </tr>\n",
              "    <tr>\n",
              "      <th>5</th>\n",
              "      <td>121</td>\n",
              "      <td>5</td>\n",
              "      <td>78.82</td>\n",
              "      <td>2</td>\n",
              "    </tr>\n",
              "    <tr>\n",
              "      <th>...</th>\n",
              "      <td>...</td>\n",
              "      <td>...</td>\n",
              "      <td>...</td>\n",
              "      <td>...</td>\n",
              "    </tr>\n",
              "    <tr>\n",
              "      <th>22621</th>\n",
              "      <td>81</td>\n",
              "      <td>1</td>\n",
              "      <td>9.69</td>\n",
              "      <td>0</td>\n",
              "    </tr>\n",
              "    <tr>\n",
              "      <th>22622</th>\n",
              "      <td>16</td>\n",
              "      <td>1</td>\n",
              "      <td>6.07</td>\n",
              "      <td>0</td>\n",
              "    </tr>\n",
              "    <tr>\n",
              "      <th>22623</th>\n",
              "      <td>11</td>\n",
              "      <td>1</td>\n",
              "      <td>128.01</td>\n",
              "      <td>2</td>\n",
              "    </tr>\n",
              "    <tr>\n",
              "      <th>22624</th>\n",
              "      <td>324</td>\n",
              "      <td>1</td>\n",
              "      <td>19.60</td>\n",
              "      <td>0</td>\n",
              "    </tr>\n",
              "    <tr>\n",
              "      <th>22625</th>\n",
              "      <td>1</td>\n",
              "      <td>4</td>\n",
              "      <td>83.62</td>\n",
              "      <td>1</td>\n",
              "    </tr>\n",
              "  </tbody>\n",
              "</table>\n",
              "<p>22625 rows × 4 columns</p>\n",
              "</div>"
            ],
            "text/plain": [
              "             Recency  Frequency  MonetaryValue  Cluster\n",
              "Customer_ID                                            \n",
              "1                345          1          16.29        0\n",
              "2                196          2          22.77        2\n",
              "3                335          1          10.92        0\n",
              "4                 55          2          33.29        2\n",
              "5                121          5          78.82        2\n",
              "...              ...        ...            ...      ...\n",
              "22621             81          1           9.69        0\n",
              "22622             16          1           6.07        0\n",
              "22623             11          1         128.01        2\n",
              "22624            324          1          19.60        0\n",
              "22625              1          4          83.62        1\n",
              "\n",
              "[22625 rows x 4 columns]"
            ]
          },
          "execution_count": 35,
          "metadata": {},
          "output_type": "execute_result"
        }
      ],
      "source": [
        "# same process for k=3\n",
        "\n",
        "# Run K-means clustering when K=3\n",
        "\n",
        "kmeans3 = KMeans(n_clusters=3, random_state=1)\n",
        "kmeans3.fit(datamart_normalized)\n",
        "cluster_labels_k3 = kmeans3.labels_\n",
        "\n",
        "#Create a dataframe and assign the label back\n",
        "datamart_rfm_k3 = datamart.assign(Cluster = cluster_labels_k3)\n",
        "datamart_rfm_k3"
      ]
    },
    {
      "cell_type": "code",
      "execution_count": null,
      "id": "e81ad800",
      "metadata": {
        "execution": {
          "iopub.execute_input": "2021-09-12T09:53:15.788229Z",
          "iopub.status.busy": "2021-09-12T09:53:15.787512Z",
          "iopub.status.idle": "2021-09-12T09:53:15.805913Z",
          "shell.execute_reply": "2021-09-12T09:53:15.806524Z",
          "shell.execute_reply.started": "2021-09-12T09:38:30.546806Z"
        },
        "papermill": {
          "duration": 0.092862,
          "end_time": "2021-09-12T09:53:15.806751",
          "exception": false,
          "start_time": "2021-09-12T09:53:15.713889",
          "status": "completed"
        },
        "tags": [],
        "id": "e81ad800",
        "outputId": "a329b178-0214-439f-98a1-a8a9ceddce56"
      },
      "outputs": [
        {
          "data": {
            "text/html": [
              "<div>\n",
              "<style scoped>\n",
              "    .dataframe tbody tr th:only-of-type {\n",
              "        vertical-align: middle;\n",
              "    }\n",
              "\n",
              "    .dataframe tbody tr th {\n",
              "        vertical-align: top;\n",
              "    }\n",
              "\n",
              "    .dataframe thead tr th {\n",
              "        text-align: left;\n",
              "    }\n",
              "\n",
              "    .dataframe thead tr:last-of-type th {\n",
              "        text-align: right;\n",
              "    }\n",
              "</style>\n",
              "<table border=\"1\" class=\"dataframe\">\n",
              "  <thead>\n",
              "    <tr>\n",
              "      <th></th>\n",
              "      <th>Recency</th>\n",
              "      <th>Frequency</th>\n",
              "      <th colspan=\"2\" halign=\"left\">MonetaryValue</th>\n",
              "    </tr>\n",
              "    <tr>\n",
              "      <th></th>\n",
              "      <th>mean</th>\n",
              "      <th>mean</th>\n",
              "      <th>mean</th>\n",
              "      <th>count</th>\n",
              "    </tr>\n",
              "    <tr>\n",
              "      <th>Cluster</th>\n",
              "      <th></th>\n",
              "      <th></th>\n",
              "      <th></th>\n",
              "      <th></th>\n",
              "    </tr>\n",
              "  </thead>\n",
              "  <tbody>\n",
              "    <tr>\n",
              "      <th>1</th>\n",
              "      <td>30.0</td>\n",
              "      <td>9.0</td>\n",
              "      <td>255.0</td>\n",
              "      <td>3651</td>\n",
              "    </tr>\n",
              "    <tr>\n",
              "      <th>2</th>\n",
              "      <td>124.0</td>\n",
              "      <td>3.0</td>\n",
              "      <td>64.0</td>\n",
              "      <td>7999</td>\n",
              "    </tr>\n",
              "    <tr>\n",
              "      <th>0</th>\n",
              "      <td>200.0</td>\n",
              "      <td>1.0</td>\n",
              "      <td>13.0</td>\n",
              "      <td>10975</td>\n",
              "    </tr>\n",
              "  </tbody>\n",
              "</table>\n",
              "</div>"
            ],
            "text/plain": [
              "        Recency Frequency MonetaryValue       \n",
              "           mean      mean          mean  count\n",
              "Cluster                                       \n",
              "1          30.0       9.0         255.0   3651\n",
              "2         124.0       3.0          64.0   7999\n",
              "0         200.0       1.0          13.0  10975"
            ]
          },
          "execution_count": 36,
          "metadata": {},
          "output_type": "execute_result"
        }
      ],
      "source": [
        "#Summary (Look at Recency, Frequecny, MonetaryValue at cluster level)\n",
        "\n",
        "datamart_rfm_k3.groupby('Cluster').agg({\n",
        "    'Recency':'mean',\n",
        "    'Frequency':'mean',\n",
        "    'MonetaryValue':['mean','count']\n",
        "}).round(0).sort_values(('Recency','mean'),ascending=True)"
      ]
    },
    {
      "cell_type": "markdown",
      "id": "7f1871a1",
      "metadata": {
        "papermill": {
          "duration": 0.057916,
          "end_time": "2021-09-12T09:53:15.922697",
          "exception": false,
          "start_time": "2021-09-12T09:53:15.864781",
          "status": "completed"
        },
        "tags": [],
        "id": "7f1871a1"
      },
      "source": [
        "#### View the result with snake plot"
      ]
    },
    {
      "cell_type": "code",
      "execution_count": null,
      "id": "a353cae3",
      "metadata": {
        "execution": {
          "iopub.execute_input": "2021-09-12T09:53:16.044233Z",
          "iopub.status.busy": "2021-09-12T09:53:16.043560Z",
          "iopub.status.idle": "2021-09-12T09:53:16.062422Z",
          "shell.execute_reply": "2021-09-12T09:53:16.063037Z",
          "shell.execute_reply.started": "2021-09-12T09:38:30.574703Z"
        },
        "papermill": {
          "duration": 0.082857,
          "end_time": "2021-09-12T09:53:16.063276",
          "exception": false,
          "start_time": "2021-09-12T09:53:15.980419",
          "status": "completed"
        },
        "tags": [],
        "id": "a353cae3",
        "outputId": "a163329d-70cc-462b-9b7b-00f4de75c04b"
      },
      "outputs": [
        {
          "data": {
            "text/html": [
              "<div>\n",
              "<style scoped>\n",
              "    .dataframe tbody tr th:only-of-type {\n",
              "        vertical-align: middle;\n",
              "    }\n",
              "\n",
              "    .dataframe tbody tr th {\n",
              "        vertical-align: top;\n",
              "    }\n",
              "\n",
              "    .dataframe thead th {\n",
              "        text-align: right;\n",
              "    }\n",
              "</style>\n",
              "<table border=\"1\" class=\"dataframe\">\n",
              "  <thead>\n",
              "    <tr style=\"text-align: right;\">\n",
              "      <th></th>\n",
              "      <th>Customer_ID</th>\n",
              "      <th>Cluster</th>\n",
              "      <th>Attribute</th>\n",
              "      <th>Value</th>\n",
              "    </tr>\n",
              "  </thead>\n",
              "  <tbody>\n",
              "    <tr>\n",
              "      <th>0</th>\n",
              "      <td>1</td>\n",
              "      <td>0</td>\n",
              "      <td>Recency</td>\n",
              "      <td>345.0</td>\n",
              "    </tr>\n",
              "    <tr>\n",
              "      <th>1</th>\n",
              "      <td>2</td>\n",
              "      <td>2</td>\n",
              "      <td>Recency</td>\n",
              "      <td>196.0</td>\n",
              "    </tr>\n",
              "    <tr>\n",
              "      <th>2</th>\n",
              "      <td>3</td>\n",
              "      <td>0</td>\n",
              "      <td>Recency</td>\n",
              "      <td>335.0</td>\n",
              "    </tr>\n",
              "    <tr>\n",
              "      <th>3</th>\n",
              "      <td>4</td>\n",
              "      <td>2</td>\n",
              "      <td>Recency</td>\n",
              "      <td>55.0</td>\n",
              "    </tr>\n",
              "    <tr>\n",
              "      <th>4</th>\n",
              "      <td>5</td>\n",
              "      <td>2</td>\n",
              "      <td>Recency</td>\n",
              "      <td>121.0</td>\n",
              "    </tr>\n",
              "  </tbody>\n",
              "</table>\n",
              "</div>"
            ],
            "text/plain": [
              "   Customer_ID  Cluster Attribute  Value\n",
              "0            1        0   Recency  345.0\n",
              "1            2        2   Recency  196.0\n",
              "2            3        0   Recency  335.0\n",
              "3            4        2   Recency   55.0\n",
              "4            5        2   Recency  121.0"
            ]
          },
          "execution_count": 37,
          "metadata": {},
          "output_type": "execute_result"
        }
      ],
      "source": [
        "# Using K=3 as example\n",
        "\n",
        "# melt the data so RFM values and metric names are stored in 1 column each\n",
        "datamart_k3_melt = pd.melt(datamart_rfm_k3.reset_index(),\n",
        "                          id_vars=['Customer_ID','Cluster'],\n",
        "                          value_vars=['Recency','Frequency','MonetaryValue'],\n",
        "                          var_name='Attribute',\n",
        "                          value_name='Value')\n",
        "datamart_k3_melt.head()"
      ]
    },
    {
      "cell_type": "code",
      "execution_count": null,
      "id": "593e4204",
      "metadata": {
        "execution": {
          "iopub.execute_input": "2021-09-12T09:53:16.182853Z",
          "iopub.status.busy": "2021-09-12T09:53:16.182149Z",
          "iopub.status.idle": "2021-09-12T09:53:17.018462Z",
          "shell.execute_reply": "2021-09-12T09:53:17.017919Z",
          "shell.execute_reply.started": "2021-09-12T09:38:30.600253Z"
        },
        "papermill": {
          "duration": 0.907231,
          "end_time": "2021-09-12T09:53:17.018621",
          "exception": false,
          "start_time": "2021-09-12T09:53:16.111390",
          "status": "completed"
        },
        "tags": [],
        "id": "593e4204",
        "outputId": "88debedd-67cd-4d0b-e68a-eb54bc6a834d"
      },
      "outputs": [
        {
          "data": {
            "text/plain": [
              "<AxesSubplot:title={'center':'Snake plot of standardized variables'}, xlabel='Attribute', ylabel='Value'>"
            ]
          },
          "execution_count": 38,
          "metadata": {},
          "output_type": "execute_result"
        },
        {
          "data": {
            "image/png": "[encoded data removed]",
            "text/plain": [
              "<Figure size 432x288 with 1 Axes>"
            ]
          },
          "metadata": {
            "needs_background": "light"
          },
          "output_type": "display_data"
        }
      ],
      "source": [
        "#visualize a snake plot\n",
        "plt.title('Snake plot of standardized variables')\n",
        "sns.lineplot(x='Attribute',y='Value',hue='Cluster',data=datamart_k3_melt)"
      ]
    },
    {
      "cell_type": "markdown",
      "id": "a4ce3200",
      "metadata": {
        "papermill": {
          "duration": 0.047787,
          "end_time": "2021-09-12T09:53:17.113484",
          "exception": false,
          "start_time": "2021-09-12T09:53:17.065697",
          "status": "completed"
        },
        "tags": [],
        "id": "a4ce3200"
      },
      "source": [
        "#### Find the relative importance of segment attributes"
      ]
    },
    {
      "cell_type": "code",
      "execution_count": null,
      "id": "60a83bce",
      "metadata": {
        "execution": {
          "iopub.execute_input": "2021-09-12T09:53:17.216012Z",
          "iopub.status.busy": "2021-09-12T09:53:17.215164Z",
          "iopub.status.idle": "2021-09-12T09:53:17.230090Z",
          "shell.execute_reply": "2021-09-12T09:53:17.230546Z",
          "shell.execute_reply.started": "2021-09-12T09:38:31.834505Z"
        },
        "papermill": {
          "duration": 0.070022,
          "end_time": "2021-09-12T09:53:17.230747",
          "exception": false,
          "start_time": "2021-09-12T09:53:17.160725",
          "status": "completed"
        },
        "tags": [],
        "id": "60a83bce",
        "outputId": "10f409c9-5322-4ef7-d6ff-7a4aa052a4bc"
      },
      "outputs": [
        {
          "data": {
            "text/html": [
              "<div>\n",
              "<style scoped>\n",
              "    .dataframe tbody tr th:only-of-type {\n",
              "        vertical-align: middle;\n",
              "    }\n",
              "\n",
              "    .dataframe tbody tr th {\n",
              "        vertical-align: top;\n",
              "    }\n",
              "\n",
              "    .dataframe thead th {\n",
              "        text-align: right;\n",
              "    }\n",
              "</style>\n",
              "<table border=\"1\" class=\"dataframe\">\n",
              "  <thead>\n",
              "    <tr style=\"text-align: right;\">\n",
              "      <th></th>\n",
              "      <th>Recency</th>\n",
              "      <th>Frequency</th>\n",
              "      <th>MonetaryValue</th>\n",
              "    </tr>\n",
              "    <tr>\n",
              "      <th>Cluster</th>\n",
              "      <th></th>\n",
              "      <th></th>\n",
              "      <th></th>\n",
              "    </tr>\n",
              "  </thead>\n",
              "  <tbody>\n",
              "    <tr>\n",
              "      <th>0</th>\n",
              "      <td>0.37</td>\n",
              "      <td>-0.62</td>\n",
              "      <td>-0.82</td>\n",
              "    </tr>\n",
              "    <tr>\n",
              "      <th>1</th>\n",
              "      <td>-0.79</td>\n",
              "      <td>2.10</td>\n",
              "      <td>2.65</td>\n",
              "    </tr>\n",
              "    <tr>\n",
              "      <th>2</th>\n",
              "      <td>-0.15</td>\n",
              "      <td>-0.11</td>\n",
              "      <td>-0.09</td>\n",
              "    </tr>\n",
              "  </tbody>\n",
              "</table>\n",
              "</div>"
            ],
            "text/plain": [
              "         Recency  Frequency  MonetaryValue\n",
              "Cluster                                   \n",
              "0           0.37      -0.62          -0.82\n",
              "1          -0.79       2.10           2.65\n",
              "2          -0.15      -0.11          -0.09"
            ]
          },
          "execution_count": 39,
          "metadata": {},
          "output_type": "execute_result"
        }
      ],
      "source": [
        "cluster_avg = datamart_rfm_k3.groupby(['Cluster']).mean()\n",
        "population_avg = datamart.mean()\n",
        "relative_imp= cluster_avg / population_avg -1  # compare with population avg\n",
        "\n",
        "relative_imp.round(2)"
      ]
    },
    {
      "cell_type": "code",
      "execution_count": null,
      "id": "851efbf9",
      "metadata": {
        "execution": {
          "iopub.execute_input": "2021-09-12T09:53:17.330218Z",
          "iopub.status.busy": "2021-09-12T09:53:17.329579Z",
          "iopub.status.idle": "2021-09-12T09:53:17.542103Z",
          "shell.execute_reply": "2021-09-12T09:53:17.541096Z",
          "shell.execute_reply.started": "2021-09-12T09:38:31.858653Z"
        },
        "papermill": {
          "duration": 0.26359,
          "end_time": "2021-09-12T09:53:17.542284",
          "exception": false,
          "start_time": "2021-09-12T09:53:17.278694",
          "status": "completed"
        },
        "tags": [],
        "id": "851efbf9",
        "outputId": "522198e1-687b-410e-e11b-f5816aa756a2"
      },
      "outputs": [
        {
          "data": {
            "image/png": "[encoded data removed]",
            "text/plain": [
              "<Figure size 720x288 with 2 Axes>"
            ]
          },
          "metadata": {
            "needs_background": "light"
          },
          "output_type": "display_data"
        }
      ],
      "source": [
        "# heatmap\n",
        "plt.figure(figsize=(10,4))\n",
        "plt.title('Relative Importance of Attributes')\n",
        "sns.heatmap(data=relative_imp, annot= True, fmt='.2f', cmap='RdYlGn')\n",
        "plt.show()"
      ]
    },
    {
      "cell_type": "markdown",
      "id": "75659220",
      "metadata": {
        "papermill": {
          "duration": 0.048698,
          "end_time": "2021-09-12T09:53:17.640748",
          "exception": false,
          "start_time": "2021-09-12T09:53:17.592050",
          "status": "completed"
        },
        "tags": [],
        "id": "75659220"
      },
      "source": [
        "<a id=\"section-five\"></a>\n",
        "### Reflections & Extra Resources\n",
        "\n",
        "- Elbow method is a good indicator for choosing the number of clusters, but it doesn't always work. Other alternatives includes:\n",
        "\n",
        "    - [Silhouette coefficient](https://scikit-learn.org/stable/auto_examples/cluster/plot_kmeans_silhouette_analysis.html)\n",
        "    \n",
        "    - [Gap Statistics](https://web.stanford.edu/~hastie/Papers/gap.pdf)\n",
        "\n",
        "\n",
        "\n",
        "- Limitation for K-means:\n",
        "\n",
        "    - For high-dimensional data. You need [extra steps](https://medium.com/swlh/k-means-clustering-on-high-dimensional-data-d2151e1a4240) in order to apply K-means clustering\n",
        "    - Skewness & Normalize data [Interesting article](http://varianceexplained.org/r/kmeans-free-lunch/) challenging the assumption for K-means\n",
        "    \n",
        "    \n",
        "- Alternatives for K-means: [Important Clustering Algorithms](https://towardsdatascience.com/the-5-clustering-algorithms-data-scientists-need-to-know-a36d136ef68)"
      ]
    },
    {
      "cell_type": "code",
      "execution_count": null,
      "id": "3bd18d3c",
      "metadata": {
        "papermill": {
          "duration": 0.048283,
          "end_time": "2021-09-12T09:53:17.737417",
          "exception": false,
          "start_time": "2021-09-12T09:53:17.689134",
          "status": "completed"
        },
        "tags": [],
        "id": "3bd18d3c"
      },
      "outputs": [],
      "source": []
    }
  ],
  "metadata": {
    "kernelspec": {
      "display_name": "Python 3",
      "language": "python",
      "name": "python3"
    },
    "language_info": {
      "codemirror_mode": {
        "name": "ipython",
        "version": 3
      },
      "file_extension": ".py",
      "mimetype": "text/x-python",
      "name": "python",
      "nbconvert_exporter": "python",
      "pygments_lexer": "ipython3",
      "version": "3.7.10"
    },
    "papermill": {
      "default_parameters": {},
      "duration": 41.853787,
      "end_time": "2021-09-12T09:53:19.334765",
      "environment_variables": {},
      "exception": null,
      "input_path": "__notebook__.ipynb",
      "output_path": "__notebook__.ipynb",
      "parameters": {},
      "start_time": "2021-09-12T09:52:37.480978",
      "version": "2.3.3"
    },
    "colab": {
      "provenance": [],
      "include_colab_link": true
    }
  },
  "nbformat": 4,
  "nbformat_minor": 5
}